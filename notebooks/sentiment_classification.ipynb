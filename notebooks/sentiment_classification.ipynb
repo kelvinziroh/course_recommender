{
 "cells": [
  {
   "cell_type": "code",
   "execution_count": 1,
   "metadata": {
    "id": "eeXyz9RicX7w"
   },
   "outputs": [],
   "source": [
    "# Install transformers library into the session\n",
    "%%capture\n",
    "!pip install transformers"
   ]
  },
  {
   "cell_type": "code",
   "execution_count": 2,
   "metadata": {
    "colab": {
     "base_uri": "https://localhost:8080/"
    },
    "id": "T8ombmrQDMzO",
    "outputId": "6c1b01f2-e840-4def-fb36-f1716804b992"
   },
   "outputs": [
    {
     "name": "stdout",
     "output_type": "stream",
     "text": [
      "Mon Jan  8 08:54:02 2024       \n",
      "+---------------------------------------------------------------------------------------+\n",
      "| NVIDIA-SMI 535.104.05             Driver Version: 535.104.05   CUDA Version: 12.2     |\n",
      "|-----------------------------------------+----------------------+----------------------+\n",
      "| GPU  Name                 Persistence-M | Bus-Id        Disp.A | Volatile Uncorr. ECC |\n",
      "| Fan  Temp   Perf          Pwr:Usage/Cap |         Memory-Usage | GPU-Util  Compute M. |\n",
      "|                                         |                      |               MIG M. |\n",
      "|=========================================+======================+======================|\n",
      "|   0  Tesla V100-SXM2-16GB           Off | 00000000:00:04.0 Off |                    0 |\n",
      "| N/A   35C    P0              25W / 300W |      0MiB / 16384MiB |      0%      Default |\n",
      "|                                         |                      |                  N/A |\n",
      "+-----------------------------------------+----------------------+----------------------+\n",
      "                                                                                         \n",
      "+---------------------------------------------------------------------------------------+\n",
      "| Processes:                                                                            |\n",
      "|  GPU   GI   CI        PID   Type   Process name                            GPU Memory |\n",
      "|        ID   ID                                                             Usage      |\n",
      "|=======================================================================================|\n",
      "|  No running processes found                                                           |\n",
      "+---------------------------------------------------------------------------------------+\n"
     ]
    }
   ],
   "source": [
    "gpu_info = !nvidia-smi\n",
    "gpu_info = '\\n'.join(gpu_info)\n",
    "if gpu_info.find('failed') >= 0:\n",
    "  print('Not connected to a GPU')\n",
    "else:\n",
    "  print(gpu_info)"
   ]
  },
  {
   "cell_type": "code",
   "execution_count": 3,
   "metadata": {
    "colab": {
     "base_uri": "https://localhost:8080/"
    },
    "id": "ivfZLBi6EmHk",
    "outputId": "2dc7074e-305f-44c6-c3d8-129dc22552de"
   },
   "outputs": [
    {
     "name": "stdout",
     "output_type": "stream",
     "text": [
      "Your runtime has 13.6 gigabites of available RAM\n",
      "\n",
      "Not using a high-RAM runtime\n"
     ]
    }
   ],
   "source": [
    "from psutil import virtual_memory\n",
    "ram_gb = virtual_memory().total / 1e9\n",
    "print('Your runtime has {:.1f} gigabites of available RAM\\n'.format(ram_gb))\n",
    "\n",
    "if ram_gb < 20:\n",
    "  print('Not using a high-RAM runtime')\n",
    "else:\n",
    "  print('You are using a high-RAM runtime!')"
   ]
  },
  {
   "cell_type": "code",
   "execution_count": 4,
   "metadata": {
    "id": "fhF5OxAscqfv"
   },
   "outputs": [],
   "source": [
    "# Import pre-requisite dependancies\n",
    "import transformers\n",
    "from transformers import AutoModel, AutoTokenizer, AdamW, get_linear_schedule_with_warmup\n",
    "import torch\n",
    "\n",
    "import numpy as np\n",
    "import pandas as pd\n",
    "import seaborn as sns\n",
    "from pylab import rcParams\n",
    "import matplotlib.pyplot as plt\n",
    "from matplotlib import rc\n",
    "from sklearn.model_selection import train_test_split\n",
    "from sklearn.metrics import confusion_matrix, classification_report\n",
    "from collections import defaultdict\n",
    "from textwrap import wrap\n",
    "\n",
    "from torch import nn, optim\n",
    "from torch.utils.data import Dataset, DataLoader\n",
    "import torch.nn.functional as F\n",
    "%matplotlib inline\n",
    "%config InlineBackend.figure_format='retina'\n",
    "\n",
    "sns.set(style='whitegrid', palette='muted', font_scale=1.2)\n",
    "\n",
    "COLOR_PALETTE = [\"#08519c\", \"#3182bd\", \"#6baed6\", \"#9ecae1\", \"#c6dbef\", \"#e6f5f0\"]\n",
    "\n",
    "sns.set_palette(sns.color_palette(COLOR_PALETTE))\n",
    "\n",
    "rcParams['figure.figsize'] = 8, 6\n",
    "\n",
    "RANDOM_SEED = 42\n",
    "np.random.seed(RANDOM_SEED)\n",
    "torch.manual_seed(RANDOM_SEED)\n",
    "device = torch.device(\"cuda:0\" if torch.cuda.is_available() else 'cpu')"
   ]
  },
  {
   "cell_type": "code",
   "execution_count": 5,
   "metadata": {
    "id": "VusFArs2fr80"
   },
   "outputs": [],
   "source": [
    "import os\n",
    "from google.colab import drive"
   ]
  },
  {
   "cell_type": "code",
   "execution_count": 6,
   "metadata": {
    "colab": {
     "base_uri": "https://localhost:8080/"
    },
    "id": "evqesrk-gUo1",
    "outputId": "6e726790-46d9-4e22-89c0-6df125a8898b"
   },
   "outputs": [
    {
     "name": "stdout",
     "output_type": "stream",
     "text": [
      "Mounted at /content/drive\n"
     ]
    }
   ],
   "source": [
    "drive.mount('/content/drive', force_remount=False)"
   ]
  },
  {
   "cell_type": "code",
   "execution_count": 7,
   "metadata": {
    "colab": {
     "base_uri": "https://localhost:8080/",
     "height": 643
    },
    "id": "ZzRnVzN_gpSl",
    "outputId": "d18f879d-a7ae-4d89-dc8a-822fb92f3f88"
   },
   "outputs": [
    {
     "data": {
      "text/html": [
       "\n",
       "  <div id=\"df-23139a8c-c90a-4661-ab1a-933ab04b67e3\" class=\"colab-df-container\">\n",
       "    <div>\n",
       "<style scoped>\n",
       "    .dataframe tbody tr th:only-of-type {\n",
       "        vertical-align: middle;\n",
       "    }\n",
       "\n",
       "    .dataframe tbody tr th {\n",
       "        vertical-align: top;\n",
       "    }\n",
       "\n",
       "    .dataframe thead th {\n",
       "        text-align: right;\n",
       "    }\n",
       "</style>\n",
       "<table border=\"1\" class=\"dataframe\">\n",
       "  <thead>\n",
       "    <tr style=\"text-align: right;\">\n",
       "      <th></th>\n",
       "      <th>userName</th>\n",
       "      <th>userImage</th>\n",
       "      <th>content</th>\n",
       "      <th>score</th>\n",
       "      <th>thumbsUpCount</th>\n",
       "      <th>reviewCreatedVersion</th>\n",
       "      <th>at</th>\n",
       "      <th>replyContent</th>\n",
       "      <th>repliedAt</th>\n",
       "      <th>sortOrder</th>\n",
       "      <th>appId</th>\n",
       "    </tr>\n",
       "  </thead>\n",
       "  <tbody>\n",
       "    <tr>\n",
       "      <th>0</th>\n",
       "      <td>Andrew Thomas</td>\n",
       "      <td>https://lh3.googleusercontent.com/a-/AOh14GiHd...</td>\n",
       "      <td>Update: After getting a response from the deve...</td>\n",
       "      <td>1</td>\n",
       "      <td>21</td>\n",
       "      <td>4.17.0.3</td>\n",
       "      <td>2020-04-05 22:25:57</td>\n",
       "      <td>According to our TOS, and the term you have ag...</td>\n",
       "      <td>2020-04-05 15:10:24</td>\n",
       "      <td>most_relevant</td>\n",
       "      <td>com.anydo</td>\n",
       "    </tr>\n",
       "    <tr>\n",
       "      <th>1</th>\n",
       "      <td>Craig Haines</td>\n",
       "      <td>https://lh3.googleusercontent.com/-hoe0kwSJgPQ...</td>\n",
       "      <td>Used it for a fair amount of time without any ...</td>\n",
       "      <td>1</td>\n",
       "      <td>11</td>\n",
       "      <td>4.17.0.3</td>\n",
       "      <td>2020-04-04 13:40:01</td>\n",
       "      <td>It sounds like you logged in with a different ...</td>\n",
       "      <td>2020-04-05 15:11:35</td>\n",
       "      <td>most_relevant</td>\n",
       "      <td>com.anydo</td>\n",
       "    </tr>\n",
       "    <tr>\n",
       "      <th>2</th>\n",
       "      <td>steven adkins</td>\n",
       "      <td>https://lh3.googleusercontent.com/a-/AOh14GiXw...</td>\n",
       "      <td>Your app sucks now!!!!! Used to be good but no...</td>\n",
       "      <td>1</td>\n",
       "      <td>17</td>\n",
       "      <td>4.17.0.3</td>\n",
       "      <td>2020-04-01 16:18:13</td>\n",
       "      <td>This sounds odd! We are not aware of any issue...</td>\n",
       "      <td>2020-04-02 16:05:56</td>\n",
       "      <td>most_relevant</td>\n",
       "      <td>com.anydo</td>\n",
       "    </tr>\n",
       "    <tr>\n",
       "      <th>3</th>\n",
       "      <td>Lars Panzerbjørn</td>\n",
       "      <td>https://lh3.googleusercontent.com/a-/AOh14Gg-h...</td>\n",
       "      <td>It seems OK, but very basic. Recurring tasks n...</td>\n",
       "      <td>1</td>\n",
       "      <td>192</td>\n",
       "      <td>4.17.0.2</td>\n",
       "      <td>2020-03-12 08:17:34</td>\n",
       "      <td>We do offer this option as part of the Advance...</td>\n",
       "      <td>2020-03-15 06:20:13</td>\n",
       "      <td>most_relevant</td>\n",
       "      <td>com.anydo</td>\n",
       "    </tr>\n",
       "    <tr>\n",
       "      <th>4</th>\n",
       "      <td>Scott Prewitt</td>\n",
       "      <td>https://lh3.googleusercontent.com/-K-X1-YsVd6U...</td>\n",
       "      <td>Absolutely worthless. This app runs a prohibit...</td>\n",
       "      <td>1</td>\n",
       "      <td>42</td>\n",
       "      <td>4.17.0.2</td>\n",
       "      <td>2020-03-14 17:41:01</td>\n",
       "      <td>We're sorry you feel this way! 90% of the app ...</td>\n",
       "      <td>2020-03-15 23:45:51</td>\n",
       "      <td>most_relevant</td>\n",
       "      <td>com.anydo</td>\n",
       "    </tr>\n",
       "  </tbody>\n",
       "</table>\n",
       "</div>\n",
       "    <div class=\"colab-df-buttons\">\n",
       "\n",
       "  <div class=\"colab-df-container\">\n",
       "    <button class=\"colab-df-convert\" onclick=\"convertToInteractive('df-23139a8c-c90a-4661-ab1a-933ab04b67e3')\"\n",
       "            title=\"Convert this dataframe to an interactive table.\"\n",
       "            style=\"display:none;\">\n",
       "\n",
       "  <svg xmlns=\"http://www.w3.org/2000/svg\" height=\"24px\" viewBox=\"0 -960 960 960\">\n",
       "    <path d=\"M120-120v-720h720v720H120Zm60-500h600v-160H180v160Zm220 220h160v-160H400v160Zm0 220h160v-160H400v160ZM180-400h160v-160H180v160Zm440 0h160v-160H620v160ZM180-180h160v-160H180v160Zm440 0h160v-160H620v160Z\"/>\n",
       "  </svg>\n",
       "    </button>\n",
       "\n",
       "  <style>\n",
       "    .colab-df-container {\n",
       "      display:flex;\n",
       "      gap: 12px;\n",
       "    }\n",
       "\n",
       "    .colab-df-convert {\n",
       "      background-color: #E8F0FE;\n",
       "      border: none;\n",
       "      border-radius: 50%;\n",
       "      cursor: pointer;\n",
       "      display: none;\n",
       "      fill: #1967D2;\n",
       "      height: 32px;\n",
       "      padding: 0 0 0 0;\n",
       "      width: 32px;\n",
       "    }\n",
       "\n",
       "    .colab-df-convert:hover {\n",
       "      background-color: #E2EBFA;\n",
       "      box-shadow: 0px 1px 2px rgba(60, 64, 67, 0.3), 0px 1px 3px 1px rgba(60, 64, 67, 0.15);\n",
       "      fill: #174EA6;\n",
       "    }\n",
       "\n",
       "    .colab-df-buttons div {\n",
       "      margin-bottom: 4px;\n",
       "    }\n",
       "\n",
       "    [theme=dark] .colab-df-convert {\n",
       "      background-color: #3B4455;\n",
       "      fill: #D2E3FC;\n",
       "    }\n",
       "\n",
       "    [theme=dark] .colab-df-convert:hover {\n",
       "      background-color: #434B5C;\n",
       "      box-shadow: 0px 1px 3px 1px rgba(0, 0, 0, 0.15);\n",
       "      filter: drop-shadow(0px 1px 2px rgba(0, 0, 0, 0.3));\n",
       "      fill: #FFFFFF;\n",
       "    }\n",
       "  </style>\n",
       "\n",
       "    <script>\n",
       "      const buttonEl =\n",
       "        document.querySelector('#df-23139a8c-c90a-4661-ab1a-933ab04b67e3 button.colab-df-convert');\n",
       "      buttonEl.style.display =\n",
       "        google.colab.kernel.accessAllowed ? 'block' : 'none';\n",
       "\n",
       "      async function convertToInteractive(key) {\n",
       "        const element = document.querySelector('#df-23139a8c-c90a-4661-ab1a-933ab04b67e3');\n",
       "        const dataTable =\n",
       "          await google.colab.kernel.invokeFunction('convertToInteractive',\n",
       "                                                    [key], {});\n",
       "        if (!dataTable) return;\n",
       "\n",
       "        const docLinkHtml = 'Like what you see? Visit the ' +\n",
       "          '<a target=\"_blank\" href=https://colab.research.google.com/notebooks/data_table.ipynb>data table notebook</a>'\n",
       "          + ' to learn more about interactive tables.';\n",
       "        element.innerHTML = '';\n",
       "        dataTable['output_type'] = 'display_data';\n",
       "        await google.colab.output.renderOutput(dataTable, element);\n",
       "        const docLink = document.createElement('div');\n",
       "        docLink.innerHTML = docLinkHtml;\n",
       "        element.appendChild(docLink);\n",
       "      }\n",
       "    </script>\n",
       "  </div>\n",
       "\n",
       "\n",
       "<div id=\"df-a5bbf349-5fcc-4da8-a366-72fbf1c76190\">\n",
       "  <button class=\"colab-df-quickchart\" onclick=\"quickchart('df-a5bbf349-5fcc-4da8-a366-72fbf1c76190')\"\n",
       "            title=\"Suggest charts\"\n",
       "            style=\"display:none;\">\n",
       "\n",
       "<svg xmlns=\"http://www.w3.org/2000/svg\" height=\"24px\"viewBox=\"0 0 24 24\"\n",
       "     width=\"24px\">\n",
       "    <g>\n",
       "        <path d=\"M19 3H5c-1.1 0-2 .9-2 2v14c0 1.1.9 2 2 2h14c1.1 0 2-.9 2-2V5c0-1.1-.9-2-2-2zM9 17H7v-7h2v7zm4 0h-2V7h2v10zm4 0h-2v-4h2v4z\"/>\n",
       "    </g>\n",
       "</svg>\n",
       "  </button>\n",
       "\n",
       "<style>\n",
       "  .colab-df-quickchart {\n",
       "      --bg-color: #E8F0FE;\n",
       "      --fill-color: #1967D2;\n",
       "      --hover-bg-color: #E2EBFA;\n",
       "      --hover-fill-color: #174EA6;\n",
       "      --disabled-fill-color: #AAA;\n",
       "      --disabled-bg-color: #DDD;\n",
       "  }\n",
       "\n",
       "  [theme=dark] .colab-df-quickchart {\n",
       "      --bg-color: #3B4455;\n",
       "      --fill-color: #D2E3FC;\n",
       "      --hover-bg-color: #434B5C;\n",
       "      --hover-fill-color: #FFFFFF;\n",
       "      --disabled-bg-color: #3B4455;\n",
       "      --disabled-fill-color: #666;\n",
       "  }\n",
       "\n",
       "  .colab-df-quickchart {\n",
       "    background-color: var(--bg-color);\n",
       "    border: none;\n",
       "    border-radius: 50%;\n",
       "    cursor: pointer;\n",
       "    display: none;\n",
       "    fill: var(--fill-color);\n",
       "    height: 32px;\n",
       "    padding: 0;\n",
       "    width: 32px;\n",
       "  }\n",
       "\n",
       "  .colab-df-quickchart:hover {\n",
       "    background-color: var(--hover-bg-color);\n",
       "    box-shadow: 0 1px 2px rgba(60, 64, 67, 0.3), 0 1px 3px 1px rgba(60, 64, 67, 0.15);\n",
       "    fill: var(--button-hover-fill-color);\n",
       "  }\n",
       "\n",
       "  .colab-df-quickchart-complete:disabled,\n",
       "  .colab-df-quickchart-complete:disabled:hover {\n",
       "    background-color: var(--disabled-bg-color);\n",
       "    fill: var(--disabled-fill-color);\n",
       "    box-shadow: none;\n",
       "  }\n",
       "\n",
       "  .colab-df-spinner {\n",
       "    border: 2px solid var(--fill-color);\n",
       "    border-color: transparent;\n",
       "    border-bottom-color: var(--fill-color);\n",
       "    animation:\n",
       "      spin 1s steps(1) infinite;\n",
       "  }\n",
       "\n",
       "  @keyframes spin {\n",
       "    0% {\n",
       "      border-color: transparent;\n",
       "      border-bottom-color: var(--fill-color);\n",
       "      border-left-color: var(--fill-color);\n",
       "    }\n",
       "    20% {\n",
       "      border-color: transparent;\n",
       "      border-left-color: var(--fill-color);\n",
       "      border-top-color: var(--fill-color);\n",
       "    }\n",
       "    30% {\n",
       "      border-color: transparent;\n",
       "      border-left-color: var(--fill-color);\n",
       "      border-top-color: var(--fill-color);\n",
       "      border-right-color: var(--fill-color);\n",
       "    }\n",
       "    40% {\n",
       "      border-color: transparent;\n",
       "      border-right-color: var(--fill-color);\n",
       "      border-top-color: var(--fill-color);\n",
       "    }\n",
       "    60% {\n",
       "      border-color: transparent;\n",
       "      border-right-color: var(--fill-color);\n",
       "    }\n",
       "    80% {\n",
       "      border-color: transparent;\n",
       "      border-right-color: var(--fill-color);\n",
       "      border-bottom-color: var(--fill-color);\n",
       "    }\n",
       "    90% {\n",
       "      border-color: transparent;\n",
       "      border-bottom-color: var(--fill-color);\n",
       "    }\n",
       "  }\n",
       "</style>\n",
       "\n",
       "  <script>\n",
       "    async function quickchart(key) {\n",
       "      const quickchartButtonEl =\n",
       "        document.querySelector('#' + key + ' button');\n",
       "      quickchartButtonEl.disabled = true;  // To prevent multiple clicks.\n",
       "      quickchartButtonEl.classList.add('colab-df-spinner');\n",
       "      try {\n",
       "        const charts = await google.colab.kernel.invokeFunction(\n",
       "            'suggestCharts', [key], {});\n",
       "      } catch (error) {\n",
       "        console.error('Error during call to suggestCharts:', error);\n",
       "      }\n",
       "      quickchartButtonEl.classList.remove('colab-df-spinner');\n",
       "      quickchartButtonEl.classList.add('colab-df-quickchart-complete');\n",
       "    }\n",
       "    (() => {\n",
       "      let quickchartButtonEl =\n",
       "        document.querySelector('#df-a5bbf349-5fcc-4da8-a366-72fbf1c76190 button');\n",
       "      quickchartButtonEl.style.display =\n",
       "        google.colab.kernel.accessAllowed ? 'block' : 'none';\n",
       "    })();\n",
       "  </script>\n",
       "</div>\n",
       "\n",
       "    </div>\n",
       "  </div>\n"
      ],
      "text/plain": [
       "           userName                                          userImage  \\\n",
       "0     Andrew Thomas  https://lh3.googleusercontent.com/a-/AOh14GiHd...   \n",
       "1      Craig Haines  https://lh3.googleusercontent.com/-hoe0kwSJgPQ...   \n",
       "2     steven adkins  https://lh3.googleusercontent.com/a-/AOh14GiXw...   \n",
       "3  Lars Panzerbjørn  https://lh3.googleusercontent.com/a-/AOh14Gg-h...   \n",
       "4     Scott Prewitt  https://lh3.googleusercontent.com/-K-X1-YsVd6U...   \n",
       "\n",
       "                                             content  score  thumbsUpCount  \\\n",
       "0  Update: After getting a response from the deve...      1             21   \n",
       "1  Used it for a fair amount of time without any ...      1             11   \n",
       "2  Your app sucks now!!!!! Used to be good but no...      1             17   \n",
       "3  It seems OK, but very basic. Recurring tasks n...      1            192   \n",
       "4  Absolutely worthless. This app runs a prohibit...      1             42   \n",
       "\n",
       "  reviewCreatedVersion                   at  \\\n",
       "0             4.17.0.3  2020-04-05 22:25:57   \n",
       "1             4.17.0.3  2020-04-04 13:40:01   \n",
       "2             4.17.0.3  2020-04-01 16:18:13   \n",
       "3             4.17.0.2  2020-03-12 08:17:34   \n",
       "4             4.17.0.2  2020-03-14 17:41:01   \n",
       "\n",
       "                                        replyContent            repliedAt  \\\n",
       "0  According to our TOS, and the term you have ag...  2020-04-05 15:10:24   \n",
       "1  It sounds like you logged in with a different ...  2020-04-05 15:11:35   \n",
       "2  This sounds odd! We are not aware of any issue...  2020-04-02 16:05:56   \n",
       "3  We do offer this option as part of the Advance...  2020-03-15 06:20:13   \n",
       "4  We're sorry you feel this way! 90% of the app ...  2020-03-15 23:45:51   \n",
       "\n",
       "       sortOrder      appId  \n",
       "0  most_relevant  com.anydo  \n",
       "1  most_relevant  com.anydo  \n",
       "2  most_relevant  com.anydo  \n",
       "3  most_relevant  com.anydo  \n",
       "4  most_relevant  com.anydo  "
      ]
     },
     "execution_count": 7,
     "metadata": {},
     "output_type": "execute_result"
    }
   ],
   "source": [
    "df = pd.read_csv('/content/drive/MyDrive/course_recommendation/reviews.csv')\n",
    "df.head()"
   ]
  },
  {
   "cell_type": "code",
   "execution_count": 8,
   "metadata": {
    "colab": {
     "base_uri": "https://localhost:8080/"
    },
    "id": "8CY6-FKxijUU",
    "outputId": "62a5255b-56d6-473d-d874-3d7d470bcb87"
   },
   "outputs": [
    {
     "data": {
      "text/plain": [
       "(15746, 11)"
      ]
     },
     "execution_count": 8,
     "metadata": {},
     "output_type": "execute_result"
    }
   ],
   "source": [
    "df.shape"
   ]
  },
  {
   "cell_type": "code",
   "execution_count": 9,
   "metadata": {
    "colab": {
     "base_uri": "https://localhost:8080/"
    },
    "id": "wMccrsLsiyNP",
    "outputId": "2261f869-772d-4f08-cae2-1bcf6807ed6a"
   },
   "outputs": [
    {
     "name": "stdout",
     "output_type": "stream",
     "text": [
      "<class 'pandas.core.frame.DataFrame'>\n",
      "RangeIndex: 15746 entries, 0 to 15745\n",
      "Data columns (total 11 columns):\n",
      " #   Column                Non-Null Count  Dtype \n",
      "---  ------                --------------  ----- \n",
      " 0   userName              15746 non-null  object\n",
      " 1   userImage             15746 non-null  object\n",
      " 2   content               15746 non-null  object\n",
      " 3   score                 15746 non-null  int64 \n",
      " 4   thumbsUpCount         15746 non-null  int64 \n",
      " 5   reviewCreatedVersion  13533 non-null  object\n",
      " 6   at                    15746 non-null  object\n",
      " 7   replyContent          7367 non-null   object\n",
      " 8   repliedAt             7367 non-null   object\n",
      " 9   sortOrder             15746 non-null  object\n",
      " 10  appId                 15746 non-null  object\n",
      "dtypes: int64(2), object(9)\n",
      "memory usage: 1.3+ MB\n"
     ]
    }
   ],
   "source": [
    "df.info()"
   ]
  },
  {
   "cell_type": "code",
   "execution_count": 10,
   "metadata": {
    "colab": {
     "base_uri": "https://localhost:8080/",
     "height": 556
    },
    "id": "dFEOuN4Zi1ZH",
    "outputId": "867902e0-a24b-4f60-9913-2192ad7c667d"
   },
   "outputs": [
    {
     "data": {
      "image/png": "[encoded data removed]",
      "text/plain": [
       "<Figure size 800x600 with 1 Axes>"
      ]
     },
     "metadata": {
      "image/png": {
       "height": 539,
       "width": 725
      }
     },
     "output_type": "display_data"
    }
   ],
   "source": [
    "# Check if the dataset is balanced\n",
    "sns.countplot(x='score', data=df)\n",
    "plt.xlabel('review score');"
   ]
  },
  {
   "cell_type": "code",
   "execution_count": 11,
   "metadata": {
    "id": "_QXpc_yXjNsV"
   },
   "outputs": [],
   "source": [
    "# Create a function to label the reviews with the sentiment classes\n",
    "def to_sentiment(rating):\n",
    "  rating = int(rating)\n",
    "  if rating <= 2:\n",
    "    return 0\n",
    "  elif rating == 3:\n",
    "    return 1\n",
    "  else:\n",
    "    return 2"
   ]
  },
  {
   "cell_type": "code",
   "execution_count": 12,
   "metadata": {
    "id": "f91uJSkKnnJt"
   },
   "outputs": [],
   "source": [
    "# label the reviews in the dataset\n",
    "df['sentiment'] = df.score.apply(to_sentiment)"
   ]
  },
  {
   "cell_type": "code",
   "execution_count": 13,
   "metadata": {
    "id": "Mob4glrEosM7"
   },
   "outputs": [],
   "source": [
    "# Define the sentiment classes\n",
    "sentiment_classes = ['negative', 'neutral', 'positive']"
   ]
  },
  {
   "cell_type": "code",
   "execution_count": 14,
   "metadata": {
    "colab": {
     "base_uri": "https://localhost:8080/",
     "height": 556
    },
    "id": "la7BLCy5nnHA",
    "outputId": "029b83b0-fb4f-4a9e-b7d4-8d114bd1a262"
   },
   "outputs": [
    {
     "data": {
      "image/png": "[encoded data removed]",
      "text/plain": [
       "<Figure size 800x600 with 1 Axes>"
      ]
     },
     "metadata": {
      "image/png": {
       "height": 539,
       "width": 725
      }
     },
     "output_type": "display_data"
    }
   ],
   "source": [
    "# Check whether the sentiment classes in the dataset are balanced\n",
    "ax = sns.countplot(x='sentiment', data=df)\n",
    "plt.xlabel('review sentiment')\n",
    "ax.set_xticklabels(sentiment_classes);"
   ]
  },
  {
   "cell_type": "markdown",
   "metadata": {
    "id": "1Vlv0J-cpjq2"
   },
   "source": [
    "# Data Preprocessing"
   ]
  },
  {
   "cell_type": "code",
   "execution_count": 15,
   "metadata": {
    "id": "lRawSrSkNOxJ"
   },
   "outputs": [],
   "source": [
    "# Define the pre-trained models\n",
    "pre_trained_bert = 'bert-base-cased'\n",
    "pre_trained_roberta = 'roberta-base'"
   ]
  },
  {
   "cell_type": "code",
   "execution_count": 16,
   "metadata": {
    "colab": {
     "base_uri": "https://localhost:8080/",
     "height": 272,
     "referenced_widgets": [
      "0e74208d94334f9aa55fe6e9f2f67bbb",
      "3678c66c7321481da31ba23875e8e199",
      "a1f29de5eb7440b6b14a3bdb83489049",
      "9cf0ce9b172649aebbbe018afd7b1d6d",
      "2ef2488e7f344226b51cf5611f7ee1e0",
      "3307c349c994408d8e9f0f15eee61aff",
      "5cb79f9d4275479a924b1938a8145582",
      "517ed42ef04345d4ba29534d3a34a599",
      "20b7701b038a4f8e90230043ec6cb7af",
      "93f6c5c8cdc74c609feb767468499b32",
      "6bd0b806b5bc42cda23f3d181a5d24f7",
      "4f64ac7cd6a346f6b231eaccc76ea8ec",
      "93d0f06f51f2426d89095a3370ea783d",
      "f92f08903fee423c9356830cbf4ef7f8",
      "5150d009a1ae4170a74eafce5b33f8c2",
      "ef176e3d82f24970a9365570efa31eed",
      "97c549c1de154e028363bc64bada8299",
      "66432009f6ef4d86bfbc17eb9be1a2ae",
      "975d0928e50d4dc682f98fb26f7a6001",
      "2e290abefeaa453099964d446c09f44b",
      "3b07b26921f8449e959f27e6798fca78",
      "684b3e6bda0c4334ba4267f04eddb61c",
      "7da2a1e6af4f41b7839ea6e7f5893428",
      "6cd14763607b4ffbb87a8966fb881820",
      "e1b697e08d8545b7a4d9a831ac1f1603",
      "c759b6c133f846149f4eb866b47b1b46",
      "c8cffe7549ee45a38ea1ebf044416182",
      "acddb2df367f4fc6a981d89b3bdd82b2",
      "a2abd5bed1244d2391f694326b03de93",
      "8f78a79854b64a48a2e094cd7a8740bf",
      "eb553cafaad544fdbd589837d1964baf",
      "8aaf55779ca84b5793532ad9c0f841b0",
      "e934478ed978458384805ca0f749408c",
      "4491ba63b0424bcfa4180a374ebb1a05",
      "7579c93b7fd04e6b8d02ee8394d4823a",
      "e0f0e17411244e5d9f07c0247324264e",
      "7ab51d1da88e4d3baffffbc5b1a793ab",
      "c7b1daf57d8a484ebb4b91384116f44e",
      "f7b8567c6bf8471cbfae02d5969ab8ac",
      "2a8d64f3ec874aecacba922d76e1ec34",
      "09dd117467d1406eab441a8863a2e752",
      "2a6e5dc550584a7ebe771bb57ea4847f",
      "f0eb41a42f4243418c359345aef03e49",
      "446c385ff3f2470b8473b85ae78d5b7e"
     ]
    },
    "id": "w0DJFTnknm3i",
    "outputId": "b28e36f7-8509-4da9-ec47-d361044d27e0"
   },
   "outputs": [
    {
     "name": "stderr",
     "output_type": "stream",
     "text": [
      "/usr/local/lib/python3.10/dist-packages/huggingface_hub/utils/_token.py:72: UserWarning: \n",
      "The secret `HF_TOKEN` does not exist in your Colab secrets.\n",
      "To authenticate with the Hugging Face Hub, create a token in your settings tab (https://huggingface.co/settings/tokens), set it as secret in your Google Colab and restart your session.\n",
      "You will be able to reuse this secret in all of your notebooks.\n",
      "Please note that authentication is recommended but still optional to access public models or datasets.\n",
      "  warnings.warn(\n"
     ]
    },
    {
     "data": {
      "application/vnd.jupyter.widget-view+json": {
       "model_id": "0e74208d94334f9aa55fe6e9f2f67bbb",
       "version_major": 2,
       "version_minor": 0
      },
      "text/plain": [
       "tokenizer_config.json:   0%|          | 0.00/29.0 [00:00<?, ?B/s]"
      ]
     },
     "metadata": {},
     "output_type": "display_data"
    },
    {
     "data": {
      "application/vnd.jupyter.widget-view+json": {
       "model_id": "4f64ac7cd6a346f6b231eaccc76ea8ec",
       "version_major": 2,
       "version_minor": 0
      },
      "text/plain": [
       "config.json:   0%|          | 0.00/570 [00:00<?, ?B/s]"
      ]
     },
     "metadata": {},
     "output_type": "display_data"
    },
    {
     "data": {
      "application/vnd.jupyter.widget-view+json": {
       "model_id": "7da2a1e6af4f41b7839ea6e7f5893428",
       "version_major": 2,
       "version_minor": 0
      },
      "text/plain": [
       "vocab.txt:   0%|          | 0.00/213k [00:00<?, ?B/s]"
      ]
     },
     "metadata": {},
     "output_type": "display_data"
    },
    {
     "data": {
      "application/vnd.jupyter.widget-view+json": {
       "model_id": "4491ba63b0424bcfa4180a374ebb1a05",
       "version_major": 2,
       "version_minor": 0
      },
      "text/plain": [
       "tokenizer.json:   0%|          | 0.00/436k [00:00<?, ?B/s]"
      ]
     },
     "metadata": {},
     "output_type": "display_data"
    }
   ],
   "source": [
    "# Get the bert tokenizer\n",
    "bert_tokenizer = AutoTokenizer.from_pretrained('bert-base-cased')"
   ]
  },
  {
   "cell_type": "code",
   "execution_count": 17,
   "metadata": {
    "colab": {
     "base_uri": "https://localhost:8080/",
     "height": 145,
     "referenced_widgets": [
      "23ea0bbf29dc450ba6a24396178927c6",
      "4e6b51ee8af94380a73b5e774f5ea733",
      "df61cf1c6b234f4ebb4f94d2420598c5",
      "0755fca4b7d74a238fb924fb1ea57b79",
      "9049dd4f5a354292b2bd0b9ac36c8ee4",
      "6b07938d3f914b448747fccca53f41bf",
      "0e04feeeebd442b5a68c9f9c31cd8140",
      "c2e8ceb683f7468a9a6fd1b74bb284b0",
      "d086b17d54fe4f3c9ee4ca4e8e567b1c",
      "97a316b3e46746b094235cadc0176901",
      "f30f42d5ca144569a81b551734d3b95e",
      "fa288ee737ef4b90b6f60836f7393955",
      "324f8089bea949c2b65937a3fb550092",
      "7f286f0584ac43be873c01136fbc250b",
      "8b8be2d2858e4fcbb793c4680c472642",
      "74085c9a37034f879deac78055f886dc",
      "64a38b2b9cd142a5bb40562736b84797",
      "60caafbeb2f74feca62b0df8a6744691",
      "72fd48db44094708a80064d5ae894106",
      "8c66428715e647249759fa4d4fed7449",
      "d7ad0d5cf5044c09a118b7de5e751bee",
      "f651cc92e13343ac9108222183aafe26",
      "e3176a8a204943239c703359706cf34b",
      "0bec465b58b942b1be2ea2504de2eb91",
      "535b7305312a48d28bbf6cc67c5f6f04",
      "ef7dda33b5854892860573e10701e9b8",
      "131d439f89a74006bb723f6d15d82f87",
      "87d8e40626784ac283deed39dc6dc7f8",
      "3ac55e045af040039943340f4d5925b1",
      "6acb76df0e3d410c9ff1d20ce3466c16",
      "5545d30243954bb6917264ff7307c17f",
      "d3a3a964a5dc4b218c52c82e2e78eaa7",
      "c99c4d94870540c5980d40875dcd852e",
      "f8065c89472a44ceb6f8aff80d6602a1",
      "4107168fbe694a2ab47798dbcc38dede",
      "f3c6558d388243d2a1d1a5c9121c8bb8",
      "c35f954a4e3842cf98ad14244e646d1a",
      "7c9723a0bf1649139e00124b832dd5dc",
      "e89d7ba549524fb3977a935b6be6d76d",
      "6af24386f4d147b1b1da08bff11ffb72",
      "6e0421df3a6144fea4724f305c3920c3",
      "1f154e04bd164701b16e9a60b2489bdf",
      "c196343bb369468ab5468472379cdc58",
      "935f46844c3241aab6359738ad121f60"
     ]
    },
    "id": "C2NGGKNlNq84",
    "outputId": "9a22a3e8-fd35-456a-9f3c-ad77f1d0228f"
   },
   "outputs": [
    {
     "data": {
      "application/vnd.jupyter.widget-view+json": {
       "model_id": "23ea0bbf29dc450ba6a24396178927c6",
       "version_major": 2,
       "version_minor": 0
      },
      "text/plain": [
       "config.json:   0%|          | 0.00/481 [00:00<?, ?B/s]"
      ]
     },
     "metadata": {},
     "output_type": "display_data"
    },
    {
     "data": {
      "application/vnd.jupyter.widget-view+json": {
       "model_id": "fa288ee737ef4b90b6f60836f7393955",
       "version_major": 2,
       "version_minor": 0
      },
      "text/plain": [
       "vocab.json:   0%|          | 0.00/899k [00:00<?, ?B/s]"
      ]
     },
     "metadata": {},
     "output_type": "display_data"
    },
    {
     "data": {
      "application/vnd.jupyter.widget-view+json": {
       "model_id": "e3176a8a204943239c703359706cf34b",
       "version_major": 2,
       "version_minor": 0
      },
      "text/plain": [
       "merges.txt:   0%|          | 0.00/456k [00:00<?, ?B/s]"
      ]
     },
     "metadata": {},
     "output_type": "display_data"
    },
    {
     "data": {
      "application/vnd.jupyter.widget-view+json": {
       "model_id": "f8065c89472a44ceb6f8aff80d6602a1",
       "version_major": 2,
       "version_minor": 0
      },
      "text/plain": [
       "tokenizer.json:   0%|          | 0.00/1.36M [00:00<?, ?B/s]"
      ]
     },
     "metadata": {},
     "output_type": "display_data"
    }
   ],
   "source": [
    "# Get the robert tokenizer\n",
    "roberta_tokenizer = AutoTokenizer.from_pretrained('roberta-base')"
   ]
  },
  {
   "cell_type": "code",
   "execution_count": 18,
   "metadata": {
    "id": "uxAKVQfinmy8"
   },
   "outputs": [],
   "source": [
    "sample_txt = 'I really LOVE this product'"
   ]
  },
  {
   "cell_type": "code",
   "execution_count": 19,
   "metadata": {
    "id": "sj-TRWd0rKrP"
   },
   "outputs": [],
   "source": [
    "# Tokenize the sample text using the bert model\n",
    "bert_tokens = bert_tokenizer.tokenize(sample_txt)\n",
    "\n",
    "# Tokenize the sample text using the roberta model\n",
    "roberta_tokens = roberta_tokenizer.tokenize(sample_txt)"
   ]
  },
  {
   "cell_type": "code",
   "execution_count": 20,
   "metadata": {
    "colab": {
     "base_uri": "https://localhost:8080/"
    },
    "id": "jRaqqF2brRXR",
    "outputId": "3725da52-be4b-4b56-85f2-4d18ca304f03"
   },
   "outputs": [
    {
     "data": {
      "text/plain": [
       "['I', 'really', 'L', '##O', '##VE', 'this', 'product']"
      ]
     },
     "execution_count": 20,
     "metadata": {},
     "output_type": "execute_result"
    }
   ],
   "source": [
    "# Display the bert tokens\n",
    "bert_tokens"
   ]
  },
  {
   "cell_type": "code",
   "execution_count": 21,
   "metadata": {
    "colab": {
     "base_uri": "https://localhost:8080/"
    },
    "id": "O7XmP3NmOceu",
    "outputId": "db8738a1-82fe-42bd-cd46-645898f960c0"
   },
   "outputs": [
    {
     "data": {
      "text/plain": [
       "['I', 'Ġreally', 'ĠLOVE', 'Ġthis', 'Ġproduct']"
      ]
     },
     "execution_count": 21,
     "metadata": {},
     "output_type": "execute_result"
    }
   ],
   "source": [
    "# Display the roberta tokens\n",
    "roberta_tokens"
   ]
  },
  {
   "cell_type": "code",
   "execution_count": 22,
   "metadata": {
    "colab": {
     "base_uri": "https://localhost:8080/"
    },
    "id": "xik_N33krSu5",
    "outputId": "72ee4bad-9749-48ea-d674-282060feb4b2"
   },
   "outputs": [
    {
     "data": {
      "text/plain": [
       "[146, 1541, 149, 2346, 17145, 1142, 3317]"
      ]
     },
     "execution_count": 22,
     "metadata": {},
     "output_type": "execute_result"
    }
   ],
   "source": [
    "# Convert the bert tokens to token ids\n",
    "bert_token_ids = bert_tokenizer.convert_tokens_to_ids(bert_tokens)\n",
    "bert_token_ids"
   ]
  },
  {
   "cell_type": "code",
   "execution_count": 23,
   "metadata": {
    "colab": {
     "base_uri": "https://localhost:8080/"
    },
    "id": "JPQz_rtjO9XE",
    "outputId": "31bdb51d-1193-499e-ca28-de2a46d9472d"
   },
   "outputs": [
    {
     "data": {
      "text/plain": [
       "[146, 100, 100, 100, 100]"
      ]
     },
     "execution_count": 23,
     "metadata": {},
     "output_type": "execute_result"
    }
   ],
   "source": [
    "# Convert the roberta tokens to token ids\n",
    "roberta_token_ids = bert_tokenizer.convert_tokens_to_ids(roberta_tokens)\n",
    "roberta_token_ids"
   ]
  },
  {
   "cell_type": "markdown",
   "metadata": {
    "id": "vmfhbJ_OPMTc"
   },
   "source": [
    "The BERT and RoBERTa models tokenize text differently. From the output we can tell that the RoBERTa model doesn't require as much token ids to represent tokens from text compared to the BERT model"
   ]
  },
  {
   "cell_type": "code",
   "execution_count": 24,
   "metadata": {
    "colab": {
     "base_uri": "https://localhost:8080/"
    },
    "id": "WJAm-F5srxU6",
    "outputId": "974019e2-5532-4fa8-825d-397705784f2d"
   },
   "outputs": [
    {
     "data": {
      "text/plain": [
       "('[SEP]', 102)"
      ]
     },
     "execution_count": 24,
     "metadata": {},
     "output_type": "execute_result"
    }
   ],
   "source": [
    "# separator token\n",
    "bert_tokenizer.sep_token, bert_tokenizer.sep_token_id"
   ]
  },
  {
   "cell_type": "code",
   "execution_count": 25,
   "metadata": {
    "colab": {
     "base_uri": "https://localhost:8080/"
    },
    "id": "MzSUCofyPqzt",
    "outputId": "c646291b-ad2f-446f-e13f-493074e23aea"
   },
   "outputs": [
    {
     "data": {
      "text/plain": [
       "('</s>', 2)"
      ]
     },
     "execution_count": 25,
     "metadata": {},
     "output_type": "execute_result"
    }
   ],
   "source": [
    "# Try and see if the roberta model has special tokens\n",
    "roberta_tokenizer.sep_token, roberta_tokenizer.sep_token_id"
   ]
  },
  {
   "cell_type": "markdown",
   "metadata": {
    "id": "S6rDIX8DP_UO"
   },
   "source": [
    "From the output above we can see that both have the separator token, which are both represented differently for the respective models."
   ]
  },
  {
   "cell_type": "code",
   "execution_count": 26,
   "metadata": {
    "id": "gnOArVzKth50"
   },
   "outputs": [],
   "source": [
    "# Encode the sample text using the bert tokenizer\n",
    "bert_encoding = bert_tokenizer.encode_plus(\n",
    "    sample_txt,\n",
    "    max_length = 32,\n",
    "    truncation = True,\n",
    "    add_special_tokens = True,\n",
    "    padding = 'max_length',\n",
    "    return_attention_mask = True,\n",
    "    return_token_type_ids = False,\n",
    "    return_tensors = 'pt'\n",
    ")\n",
    "\n",
    "# Encode the sample text using the roberta tokenizer\n",
    "roberta_encoding = roberta_tokenizer.encode_plus(\n",
    "    sample_txt,\n",
    "    max_length = 32,\n",
    "    truncation = True,\n",
    "    add_special_tokens = True,\n",
    "    padding = 'max_length',\n",
    "    return_attention_mask = True,\n",
    "    return_token_type_ids = False,\n",
    "    return_tensors = 'pt'\n",
    ")"
   ]
  },
  {
   "cell_type": "code",
   "execution_count": 27,
   "metadata": {
    "colab": {
     "base_uri": "https://localhost:8080/"
    },
    "id": "cz2QceK-Ule1",
    "outputId": "af35d0a7-ad3d-4d22-bec3-60173cd032c5"
   },
   "outputs": [
    {
     "data": {
      "text/plain": [
       "dict_keys(['input_ids', 'attention_mask'])"
      ]
     },
     "execution_count": 27,
     "metadata": {},
     "output_type": "execute_result"
    }
   ],
   "source": [
    "bert_encoding.keys()"
   ]
  },
  {
   "cell_type": "code",
   "execution_count": 28,
   "metadata": {
    "colab": {
     "base_uri": "https://localhost:8080/"
    },
    "id": "QZ-2FnZQUp-3",
    "outputId": "70341d67-58ce-45ee-e07c-b9b86bd26467"
   },
   "outputs": [
    {
     "data": {
      "text/plain": [
       "dict_keys(['input_ids', 'attention_mask'])"
      ]
     },
     "execution_count": 28,
     "metadata": {},
     "output_type": "execute_result"
    }
   ],
   "source": [
    "roberta_encoding.keys()"
   ]
  },
  {
   "cell_type": "code",
   "execution_count": 29,
   "metadata": {
    "colab": {
     "base_uri": "https://localhost:8080/"
    },
    "id": "G4LP_6IevFz-",
    "outputId": "1256c65f-5391-47bd-858d-f2a050f9353d"
   },
   "outputs": [
    {
     "data": {
      "text/plain": [
       "tensor([[  101,   146,  1541,   149,  2346, 17145,  1142,  3317,   102,     0,\n",
       "             0,     0,     0,     0,     0,     0,     0,     0,     0,     0,\n",
       "             0,     0,     0,     0,     0,     0,     0,     0,     0,     0,\n",
       "             0,     0]])"
      ]
     },
     "execution_count": 29,
     "metadata": {},
     "output_type": "execute_result"
    }
   ],
   "source": [
    "# Display the input ids of the sample text encoded by bert\n",
    "bert_encoding['input_ids']"
   ]
  },
  {
   "cell_type": "code",
   "execution_count": 30,
   "metadata": {
    "colab": {
     "base_uri": "https://localhost:8080/"
    },
    "id": "6Hgd8Jy7VBJb",
    "outputId": "1d06f5ac-2cc6-4328-e747-330593e1f140"
   },
   "outputs": [
    {
     "data": {
      "text/plain": [
       "tensor([[    0,   100,   269, 31124,    42,  1152,     2,     1,     1,     1,\n",
       "             1,     1,     1,     1,     1,     1,     1,     1,     1,     1,\n",
       "             1,     1,     1,     1,     1,     1,     1,     1,     1,     1,\n",
       "             1,     1]])"
      ]
     },
     "execution_count": 30,
     "metadata": {},
     "output_type": "execute_result"
    }
   ],
   "source": [
    "# Display the input ids of the sample text encoded by roberta\n",
    "roberta_encoding['input_ids']"
   ]
  },
  {
   "cell_type": "code",
   "execution_count": 31,
   "metadata": {
    "colab": {
     "base_uri": "https://localhost:8080/"
    },
    "id": "hxp0U-gwvtbf",
    "outputId": "d19159e1-9b54-47ce-ccae-2d999abdc906"
   },
   "outputs": [
    {
     "data": {
      "text/plain": [
       "tensor([[1, 1, 1, 1, 1, 1, 1, 1, 1, 0, 0, 0, 0, 0, 0, 0, 0, 0, 0, 0, 0, 0, 0, 0,\n",
       "         0, 0, 0, 0, 0, 0, 0, 0]])"
      ]
     },
     "execution_count": 31,
     "metadata": {},
     "output_type": "execute_result"
    }
   ],
   "source": [
    "# Display the attention mask from the bert model's encoding\n",
    "bert_encoding['attention_mask']"
   ]
  },
  {
   "cell_type": "code",
   "execution_count": 32,
   "metadata": {
    "colab": {
     "base_uri": "https://localhost:8080/"
    },
    "id": "oCyIumpyVq3V",
    "outputId": "0b6effed-b840-46db-8c46-b0bf5c175b21"
   },
   "outputs": [
    {
     "data": {
      "text/plain": [
       "tensor([[1, 1, 1, 1, 1, 1, 1, 0, 0, 0, 0, 0, 0, 0, 0, 0, 0, 0, 0, 0, 0, 0, 0, 0,\n",
       "         0, 0, 0, 0, 0, 0, 0, 0]])"
      ]
     },
     "execution_count": 32,
     "metadata": {},
     "output_type": "execute_result"
    }
   ],
   "source": [
    "# Display the attention mask from the roberta model's encoding\n",
    "roberta_encoding['attention_mask']"
   ]
  },
  {
   "cell_type": "markdown",
   "metadata": {
    "id": "lAavmUx8V2Kw"
   },
   "source": [
    "From the outputs above, we see that the input ids of the tokenized text are different coming from both models but the attention mask is basically the same since the attention mask is a representation of the difference between real tokens and padding tokens in the tokenized text."
   ]
  },
  {
   "cell_type": "code",
   "execution_count": 33,
   "metadata": {
    "id": "DzXqtS1ov-_c"
   },
   "outputs": [],
   "source": [
    "# Compare the length of tokens from tokenized text from both models\n",
    "bert_token_lengths = []\n",
    "roberta_token_lengths = []\n",
    "\n",
    "for txt in df.content:\n",
    "  bert_tokens = bert_tokenizer.encode(\n",
    "      txt,\n",
    "      max_length = 512,\n",
    "      truncation = True\n",
    "  )\n",
    "  bert_token_lengths.append(len(bert_tokens))\n",
    "\n",
    "for txt in df.content:\n",
    "  roberta_tokens = roberta_tokenizer.encode(\n",
    "      txt,\n",
    "      max_length = 512,\n",
    "      truncation = True\n",
    "  )\n",
    "  roberta_token_lengths.append(len(roberta_tokens))"
   ]
  },
  {
   "cell_type": "code",
   "execution_count": 34,
   "metadata": {
    "colab": {
     "base_uri": "https://localhost:8080/",
     "height": 494
    },
    "id": "AbJKMiCgenuI",
    "outputId": "e575be0f-c6db-4341-d090-c077714b2899"
   },
   "outputs": [
    {
     "data": {
      "image/png": "[encoded data removed]",
      "text/plain": [
       "<Figure size 500x500 with 1 Axes>"
      ]
     },
     "metadata": {
      "image/png": {
       "height": 477,
       "width": 477
      }
     },
     "output_type": "display_data"
    }
   ],
   "source": [
    "# Visualize the token count by the bert model\n",
    "sns.displot(bert_token_lengths)\n",
    "plt.show()"
   ]
  },
  {
   "cell_type": "code",
   "execution_count": 35,
   "metadata": {
    "colab": {
     "base_uri": "https://localhost:8080/",
     "height": 494
    },
    "id": "euiLv6r0YyF0",
    "outputId": "9a71791e-8e67-4445-d0ae-53fd82222122"
   },
   "outputs": [
    {
     "data": {
      "image/png": "[encoded data removed]",
      "text/plain": [
       "<Figure size 500x500 with 1 Axes>"
      ]
     },
     "metadata": {
      "image/png": {
       "height": 477,
       "width": 477
      }
     },
     "output_type": "display_data"
    }
   ],
   "source": [
    "# Visualize the token count by the roberta model\n",
    "sns.displot(roberta_token_lengths)\n",
    "plt.show()"
   ]
  },
  {
   "cell_type": "markdown",
   "metadata": {
    "id": "LDXxKjW5eweH"
   },
   "source": [
    "The token count is almost similar from both bert and roberta tokenizers. Seems like the most optimum length for both models to handle is 200 tokens."
   ]
  },
  {
   "cell_type": "code",
   "execution_count": 36,
   "metadata": {
    "id": "R7FCvj0wxZiW"
   },
   "outputs": [],
   "source": [
    "# Create a pytorch dataset\n",
    "class ReviewDataset(Dataset):\n",
    "\n",
    "  def __init__(self, review, targets, tokenizer, max_len):\n",
    "    self.review = review\n",
    "    self.targets = targets\n",
    "    self.tokenizer = tokenizer\n",
    "    self.max_len = max_len\n",
    "\n",
    "  def __len__(self):\n",
    "    return len(self.review)\n",
    "\n",
    "  def __getitem__(self, item):\n",
    "    review = str(self.review[item])\n",
    "    target = self.targets[item]\n",
    "\n",
    "    encoding = self.tokenizer.encode_plus(\n",
    "      review,\n",
    "      max_length = self.max_len,\n",
    "      truncation = True,\n",
    "      add_special_tokens = True,\n",
    "      padding = 'max_length',\n",
    "      return_attention_mask = True,\n",
    "      return_token_type_ids = False,\n",
    "      return_tensors = 'pt'\n",
    "    )\n",
    "\n",
    "    return {\n",
    "        'review_text': review,\n",
    "        'input_ids': encoding['input_ids'].flatten(),\n",
    "        'attention_mask': encoding['attention_mask'].flatten(),\n",
    "        'targets': torch.tensor(target, dtype=torch.long)\n",
    "    }\n"
   ]
  },
  {
   "cell_type": "code",
   "execution_count": 37,
   "metadata": {
    "id": "e3_ZCQsa1P9B"
   },
   "outputs": [],
   "source": [
    "# Specify the training metrics\n",
    "MAX_LEN = 200\n",
    "BATCH_SIZE = 16\n",
    "EPOCHS = 10"
   ]
  },
  {
   "cell_type": "code",
   "execution_count": 38,
   "metadata": {
    "id": "K6m-vGzK1nb2"
   },
   "outputs": [],
   "source": [
    "# Split the datasets into training, validation and testing datasets\n",
    "df_train, df_test = train_test_split(df, test_size=0.1, random_state=RANDOM_SEED)\n",
    "df_val, df_test = train_test_split(df_test, test_size=0.5, random_state=RANDOM_SEED)"
   ]
  },
  {
   "cell_type": "code",
   "execution_count": 39,
   "metadata": {
    "colab": {
     "base_uri": "https://localhost:8080/"
    },
    "id": "6sc2L6Ch2XoK",
    "outputId": "e5854a4c-3d90-406c-f9d0-cc0c786772e4"
   },
   "outputs": [
    {
     "data": {
      "text/plain": [
       "(14171, 12)"
      ]
     },
     "execution_count": 39,
     "metadata": {},
     "output_type": "execute_result"
    }
   ],
   "source": [
    "# Inspect the shape of the training dataset\n",
    "df_train.shape"
   ]
  },
  {
   "cell_type": "code",
   "execution_count": 40,
   "metadata": {
    "colab": {
     "base_uri": "https://localhost:8080/"
    },
    "id": "-T_rEOML2dlr",
    "outputId": "62292bfd-0821-474e-cc90-3e92f4a50f0e"
   },
   "outputs": [
    {
     "data": {
      "text/plain": [
       "(787, 12)"
      ]
     },
     "execution_count": 40,
     "metadata": {},
     "output_type": "execute_result"
    }
   ],
   "source": [
    "# Inspect the shape of the validation dataset\n",
    "df_val.shape"
   ]
  },
  {
   "cell_type": "code",
   "execution_count": 41,
   "metadata": {
    "colab": {
     "base_uri": "https://localhost:8080/"
    },
    "id": "9ydwvM3W2hnD",
    "outputId": "b2df3835-e720-4d47-a70a-948bdfc5a32f"
   },
   "outputs": [
    {
     "data": {
      "text/plain": [
       "(788, 12)"
      ]
     },
     "execution_count": 41,
     "metadata": {},
     "output_type": "execute_result"
    }
   ],
   "source": [
    "# Inspect the shape of the testing dataset\n",
    "df_test.shape"
   ]
  },
  {
   "cell_type": "code",
   "execution_count": 42,
   "metadata": {
    "id": "g6fb9W3N2lvG"
   },
   "outputs": [],
   "source": [
    "# Create a data loader\n",
    "def create_data_loader(df, tokenizer, max_len, batch_size):\n",
    "  ds = ReviewDataset(\n",
    "      review=df.content.to_numpy(),\n",
    "      targets=df.sentiment.to_numpy(),\n",
    "      tokenizer=tokenizer,\n",
    "      max_len=max_len,\n",
    "  )\n",
    "\n",
    "  return DataLoader(\n",
    "      ds,\n",
    "      batch_size=batch_size,\n",
    "      num_workers=4,\n",
    "  )"
   ]
  },
  {
   "cell_type": "code",
   "execution_count": 43,
   "metadata": {
    "colab": {
     "base_uri": "https://localhost:8080/"
    },
    "id": "LvpxAmKm4OU2",
    "outputId": "3982265f-ecc0-45d9-c1b8-790b68bf7064"
   },
   "outputs": [
    {
     "name": "stderr",
     "output_type": "stream",
     "text": [
      "/usr/local/lib/python3.10/dist-packages/torch/utils/data/dataloader.py:557: UserWarning: This DataLoader will create 4 worker processes in total. Our suggested max number of worker in current system is 2, which is smaller than what this DataLoader is going to create. Please be aware that excessive worker creation might get DataLoader running slow or even freeze, lower the worker number to avoid potential slowness/freeze if necessary.\n",
      "  warnings.warn(_create_warning_msg(\n"
     ]
    }
   ],
   "source": [
    "# Create data loaders using the bert tokenizer\n",
    "bert_train_dl = create_data_loader(df_train, bert_tokenizer, MAX_LEN, BATCH_SIZE)\n",
    "bert_validation_dl = create_data_loader(df_val, bert_tokenizer, MAX_LEN, BATCH_SIZE)\n",
    "bert_test_dl = create_data_loader(df_test, bert_tokenizer, MAX_LEN, BATCH_SIZE)"
   ]
  },
  {
   "cell_type": "code",
   "execution_count": 44,
   "metadata": {
    "id": "pkHjVMZygfVP"
   },
   "outputs": [],
   "source": [
    "# Create data loaders using the roberta tokenizer\n",
    "roberta_train_dl = create_data_loader(df_train, roberta_tokenizer, MAX_LEN, BATCH_SIZE)\n",
    "roberta_validation_dl = create_data_loader(df_val, roberta_tokenizer, MAX_LEN, BATCH_SIZE)\n",
    "roberta_test_dl = create_data_loader(df_test, roberta_tokenizer, MAX_LEN, BATCH_SIZE)"
   ]
  },
  {
   "cell_type": "code",
   "execution_count": 45,
   "metadata": {
    "colab": {
     "base_uri": "https://localhost:8080/"
    },
    "id": "Tvo8pBuQ_Jg1",
    "outputId": "0bae34de-e698-4a6a-9743-9bcd4acd85c9"
   },
   "outputs": [
    {
     "data": {
      "text/plain": [
       "dict_keys(['review_text', 'input_ids', 'attention_mask', 'targets'])"
      ]
     },
     "execution_count": 45,
     "metadata": {},
     "output_type": "execute_result"
    }
   ],
   "source": [
    "# Inspect the keys in bert's training data\n",
    "bert_data = next(iter(bert_train_dl))\n",
    "bert_data.keys()"
   ]
  },
  {
   "cell_type": "code",
   "execution_count": 46,
   "metadata": {
    "colab": {
     "base_uri": "https://localhost:8080/"
    },
    "id": "vtN0alOl_98o",
    "outputId": "2754c6e6-2d5b-4b78-f2e4-0769ba82822a"
   },
   "outputs": [
    {
     "name": "stdout",
     "output_type": "stream",
     "text": [
      "input ids: torch.Size([16, 200])\n",
      "attention mask: torch.Size([16, 200])\n",
      "targets: torch.Size([16])\n"
     ]
    }
   ],
   "source": [
    "print(f'input ids: {bert_data[\"input_ids\"].shape}\\nattention mask: {bert_data[\"attention_mask\"].shape}\\ntargets: {bert_data[\"targets\"].shape}')"
   ]
  },
  {
   "cell_type": "code",
   "execution_count": 47,
   "metadata": {
    "colab": {
     "base_uri": "https://localhost:8080/"
    },
    "id": "KjTklQRniHxp",
    "outputId": "b4ab4003-52fc-4089-9ff4-0f87465348ac"
   },
   "outputs": [
    {
     "data": {
      "text/plain": [
       "dict_keys(['review_text', 'input_ids', 'attention_mask', 'targets'])"
      ]
     },
     "execution_count": 47,
     "metadata": {},
     "output_type": "execute_result"
    }
   ],
   "source": [
    "# Inspect the keys in bert's training data\n",
    "roberta_data = next(iter(roberta_train_dl))\n",
    "roberta_data.keys()"
   ]
  },
  {
   "cell_type": "code",
   "execution_count": 48,
   "metadata": {
    "colab": {
     "base_uri": "https://localhost:8080/"
    },
    "id": "vtoy0XIuiakg",
    "outputId": "b7ec93a0-b26a-4c86-a116-3f6f8c12b3f1"
   },
   "outputs": [
    {
     "data": {
      "text/plain": [
       "torch.Size([16, 200])"
      ]
     },
     "execution_count": 48,
     "metadata": {},
     "output_type": "execute_result"
    }
   ],
   "source": [
    "roberta_data['input_ids'].shape"
   ]
  },
  {
   "cell_type": "code",
   "execution_count": 49,
   "metadata": {
    "colab": {
     "base_uri": "https://localhost:8080/",
     "height": 176,
     "referenced_widgets": [
      "ea30913193bc4e4199976e0c87617d11",
      "f260129126b74b83a8fc85c3a6b21f47",
      "74dc3ea49805497e937a8b281176acec",
      "af40163b96544268b2225ee45b9b7628",
      "bd301788fd1f4a2388412df6b0db218e",
      "1fdc0bbdd94b471a85e2cc650b023709",
      "c16e6379900849f794c9393a07d8894a",
      "4abd6cc95e99439c86c3d06a146cf312",
      "4d5c944d668d46a9b24092eb9c876f33",
      "a1fb19a593b04038a17ab10790616bc6",
      "69808f3cb26a4b6891f5c7150b60ff25"
     ]
    },
    "id": "raWJ2B8wAKJT",
    "outputId": "e8052a6c-f945-44f2-f360-7c8aab1ea00a"
   },
   "outputs": [
    {
     "name": "stderr",
     "output_type": "stream",
     "text": [
      "/usr/local/lib/python3.10/dist-packages/huggingface_hub/utils/_token.py:72: UserWarning: \n",
      "The secret `HF_TOKEN` does not exist in your Colab secrets.\n",
      "To authenticate with the Hugging Face Hub, create a token in your settings tab (https://huggingface.co/settings/tokens), set it as secret in your Google Colab and restart your session.\n",
      "You will be able to reuse this secret in all of your notebooks.\n",
      "Please note that authentication is recommended but still optional to access public models or datasets.\n",
      "  warnings.warn(\n"
     ]
    },
    {
     "data": {
      "application/vnd.jupyter.widget-view+json": {
       "model_id": "ea30913193bc4e4199976e0c87617d11",
       "version_major": 2,
       "version_minor": 0
      },
      "text/plain": [
       "model.safetensors:   0%|          | 0.00/436M [00:00<?, ?B/s]"
      ]
     },
     "metadata": {},
     "output_type": "display_data"
    }
   ],
   "source": [
    "# Get the BERT pre-trained model\n",
    "pretrained_bert_model = AutoModel.from_pretrained(pre_trained_bert)"
   ]
  },
  {
   "cell_type": "code",
   "execution_count": 50,
   "metadata": {
    "colab": {
     "base_uri": "https://localhost:8080/",
     "height": 105,
     "referenced_widgets": [
      "50f17c28caaf4bcc921d19ea276df330",
      "87b2029bc5774c79827a97dcd8cee023",
      "046c4e91be53426697801b4db6209bdb",
      "517eb927e4214295ae0222a316f03e7f",
      "a58f2ba7b2244aff9017b9205fac67e0",
      "0c2e1f83600145beaf8f488c5abc7e3f",
      "7cd35bfc34f046cd9a446b6e8ef2bf18",
      "8ecfae63711144a3b26bfbb0291e0d36",
      "50dde10753a4445eaf9114741697093d",
      "512c77b6e75442ba8f748eac5ba046bd",
      "d93666b1b82f464086829a2966313f22"
     ]
    },
    "id": "M5UoduXzbhDm",
    "outputId": "05bf29bf-be3e-4cd9-cba7-f295204542c8"
   },
   "outputs": [
    {
     "data": {
      "application/vnd.jupyter.widget-view+json": {
       "model_id": "50f17c28caaf4bcc921d19ea276df330",
       "version_major": 2,
       "version_minor": 0
      },
      "text/plain": [
       "model.safetensors:   0%|          | 0.00/499M [00:00<?, ?B/s]"
      ]
     },
     "metadata": {},
     "output_type": "display_data"
    },
    {
     "name": "stderr",
     "output_type": "stream",
     "text": [
      "Some weights of RobertaModel were not initialized from the model checkpoint at roberta-base and are newly initialized: ['roberta.pooler.dense.bias', 'roberta.pooler.dense.weight']\n",
      "You should probably TRAIN this model on a down-stream task to be able to use it for predictions and inference.\n"
     ]
    }
   ],
   "source": [
    "# Get the RoBERTa pre-trained model\n",
    "pretrained_roberta_model = AutoModel.from_pretrained(pre_trained_roberta)"
   ]
  },
  {
   "cell_type": "code",
   "execution_count": 51,
   "metadata": {
    "id": "6femN2q2jGii"
   },
   "outputs": [],
   "source": [
    "# Inspect the last hidden state and pooler_output from the pretrained BERT model\n",
    "bert_model_output = pretrained_bert_model(\n",
    "    input_ids=bert_encoding['input_ids'],\n",
    "    attention_mask=bert_encoding['attention_mask']\n",
    ")"
   ]
  },
  {
   "cell_type": "code",
   "execution_count": 52,
   "metadata": {
    "colab": {
     "base_uri": "https://localhost:8080/"
    },
    "id": "QOJSh2YSkEIN",
    "outputId": "f608c181-8dc5-495d-91f3-b8a3de501955"
   },
   "outputs": [
    {
     "data": {
      "text/plain": [
       "torch.Size([1, 32, 768])"
      ]
     },
     "execution_count": 52,
     "metadata": {},
     "output_type": "execute_result"
    }
   ],
   "source": [
    "bert_model_output.last_hidden_state.shape"
   ]
  },
  {
   "cell_type": "code",
   "execution_count": 53,
   "metadata": {
    "colab": {
     "base_uri": "https://localhost:8080/"
    },
    "id": "Qd9y0taukdQ4",
    "outputId": "3a576d9c-f37c-4705-9625-bcc0dae749ad"
   },
   "outputs": [
    {
     "data": {
      "text/plain": [
       "torch.Size([1, 768])"
      ]
     },
     "execution_count": 53,
     "metadata": {},
     "output_type": "execute_result"
    }
   ],
   "source": [
    "bert_model_output.pooler_output.shape"
   ]
  },
  {
   "cell_type": "code",
   "execution_count": 54,
   "metadata": {
    "id": "I490fJdRcw6L"
   },
   "outputs": [],
   "source": [
    "# Inspect the last hidden state and pooler_outputs from the pretrained RoBERTa model\n",
    "roberta_model_output = pretrained_roberta_model(\n",
    "    input_ids=roberta_encoding['input_ids'],\n",
    "    attention_mask=roberta_encoding['attention_mask']\n",
    ")"
   ]
  },
  {
   "cell_type": "code",
   "execution_count": 55,
   "metadata": {
    "colab": {
     "base_uri": "https://localhost:8080/"
    },
    "id": "pZhD9yUodG5L",
    "outputId": "63d61aa1-25b4-47ec-a3f6-9c3b577ff603"
   },
   "outputs": [
    {
     "data": {
      "text/plain": [
       "torch.Size([1, 32, 768])"
      ]
     },
     "execution_count": 55,
     "metadata": {},
     "output_type": "execute_result"
    }
   ],
   "source": [
    "roberta_model_output.last_hidden_state.shape"
   ]
  },
  {
   "cell_type": "code",
   "execution_count": 56,
   "metadata": {
    "colab": {
     "base_uri": "https://localhost:8080/"
    },
    "id": "Bl_1xnA2dZZl",
    "outputId": "e72f9b6a-f5e5-41eb-9c29-9961da80e9da"
   },
   "outputs": [
    {
     "data": {
      "text/plain": [
       "torch.Size([1, 768])"
      ]
     },
     "execution_count": 56,
     "metadata": {},
     "output_type": "execute_result"
    }
   ],
   "source": [
    "roberta_model_output.pooler_output.shape"
   ]
  },
  {
   "cell_type": "markdown",
   "metadata": {
    "id": "xoU7_EARd6-e"
   },
   "source": [
    "# Building the sentiment classifier"
   ]
  },
  {
   "cell_type": "code",
   "execution_count": 57,
   "metadata": {
    "id": "nvckNZDydf0F"
   },
   "outputs": [],
   "source": [
    "# Build a sentiment classifier using the BERT pretrained model\n",
    "class BertSentimentClassifier(nn.Module):\n",
    "\n",
    "  def __init__(self, n_classes):\n",
    "    super(BertSentimentClassifier, self).__init__()\n",
    "    self.pretrained_bert = AutoModel.from_pretrained('bert-base-cased')\n",
    "    self.drop = nn.Dropout(p=0.3)\n",
    "    self.out = nn.Linear(self.pretrained_bert.config.hidden_size, n_classes)\n",
    "\n",
    "  def forward(self, input_ids, attention_mask):\n",
    "    _, pooled_output = self.pretrained_bert(\n",
    "        input_ids = input_ids,\n",
    "        attention_mask = attention_mask,\n",
    "        return_dict=False\n",
    "    )\n",
    "    output = self.drop(pooled_output)\n",
    "    return self.out(output)"
   ]
  },
  {
   "cell_type": "code",
   "execution_count": 58,
   "metadata": {
    "id": "FAb3U8u3d5AV"
   },
   "outputs": [],
   "source": [
    "# Build a sentiment classifier using the RoBERTa pretrained model\n",
    "class RobertaSentimentClassifier(nn.Module):\n",
    "\n",
    "  def __init__(self, n_classes):\n",
    "    super(RobertaSentimentClassifier, self).__init__()\n",
    "    self.pretrained_roberta = AutoModel.from_pretrained(pre_trained_roberta)\n",
    "    self.drop = nn.Dropout(p=0.3)\n",
    "    self.out = nn.Linear(self.pretrained_roberta.config.hidden_size, n_classes)\n",
    "\n",
    "  def forward(self, input_ids, attention_mask):\n",
    "    _, pooled_output = self.pretrained_roberta(\n",
    "        input_ids = input_ids,\n",
    "        attention_mask = attention_mask,\n",
    "        return_dict=False\n",
    "    )\n",
    "    output = self.drop(pooled_output)\n",
    "    return self.out(output)"
   ]
  },
  {
   "cell_type": "code",
   "execution_count": 59,
   "metadata": {
    "colab": {
     "base_uri": "https://localhost:8080/"
    },
    "id": "uzYyczeCgsiy",
    "outputId": "0f65bf68-74d7-43d4-e5e7-1e8919fa5663"
   },
   "outputs": [
    {
     "name": "stderr",
     "output_type": "stream",
     "text": [
      "/usr/local/lib/python3.10/dist-packages/huggingface_hub/utils/_token.py:72: UserWarning: \n",
      "The secret `HF_TOKEN` does not exist in your Colab secrets.\n",
      "To authenticate with the Hugging Face Hub, create a token in your settings tab (https://huggingface.co/settings/tokens), set it as secret in your Google Colab and restart your session.\n",
      "You will be able to reuse this secret in all of your notebooks.\n",
      "Please note that authentication is recommended but still optional to access public models or datasets.\n",
      "  warnings.warn(\n"
     ]
    }
   ],
   "source": [
    "bert_model = BertSentimentClassifier(len(sentiment_classes))\n",
    "bert_model = bert_model.to(device)"
   ]
  },
  {
   "cell_type": "code",
   "execution_count": 60,
   "metadata": {
    "colab": {
     "base_uri": "https://localhost:8080/"
    },
    "id": "lJTKQefEhfFV",
    "outputId": "cd5da252-396c-4cf9-f65d-2909c2c71ba9"
   },
   "outputs": [
    {
     "name": "stdout",
     "output_type": "stream",
     "text": [
      "torch.Size([16, 200])\n",
      "torch.Size([16, 200])\n"
     ]
    }
   ],
   "source": [
    "bert_input_ids = bert_data['input_ids'].to(device)\n",
    "bert_attention_mask = bert_data['attention_mask'].to(device)\n",
    "\n",
    "print(bert_input_ids.shape)\n",
    "print(bert_attention_mask.shape)"
   ]
  },
  {
   "cell_type": "code",
   "execution_count": 61,
   "metadata": {
    "colab": {
     "base_uri": "https://localhost:8080/"
    },
    "id": "ZNNdiX-Xh9cB",
    "outputId": "cec1b310-974f-4588-b72c-ca9343c66075"
   },
   "outputs": [
    {
     "data": {
      "text/plain": [
       "tensor([[0.2346, 0.0835, 0.6819],\n",
       "        [0.3989, 0.1595, 0.4416],\n",
       "        [0.2131, 0.1286, 0.6583],\n",
       "        [0.3328, 0.0870, 0.5801],\n",
       "        [0.2685, 0.0739, 0.6576],\n",
       "        [0.2378, 0.1974, 0.5648],\n",
       "        [0.4090, 0.0858, 0.5052],\n",
       "        [0.3431, 0.1955, 0.4615],\n",
       "        [0.4858, 0.1022, 0.4120],\n",
       "        [0.3474, 0.1402, 0.5123],\n",
       "        [0.3262, 0.0925, 0.5813],\n",
       "        [0.1927, 0.1052, 0.7021],\n",
       "        [0.2127, 0.1265, 0.6608],\n",
       "        [0.2355, 0.1641, 0.6004],\n",
       "        [0.2452, 0.0665, 0.6884],\n",
       "        [0.2732, 0.1094, 0.6174]], device='cuda:0', grad_fn=<SoftmaxBackward0>)"
      ]
     },
     "execution_count": 61,
     "metadata": {},
     "output_type": "execute_result"
    }
   ],
   "source": [
    "F.softmax(bert_model(bert_input_ids, bert_attention_mask), dim=1)"
   ]
  },
  {
   "cell_type": "code",
   "execution_count": 62,
   "metadata": {
    "colab": {
     "base_uri": "https://localhost:8080/"
    },
    "id": "B_cmOy7BJkRt",
    "outputId": "dda10d54-5c71-41b7-928d-4e935002d2bb"
   },
   "outputs": [
    {
     "name": "stderr",
     "output_type": "stream",
     "text": [
      "Some weights of RobertaModel were not initialized from the model checkpoint at roberta-base and are newly initialized: ['roberta.pooler.dense.bias', 'roberta.pooler.dense.weight']\n",
      "You should probably TRAIN this model on a down-stream task to be able to use it for predictions and inference.\n"
     ]
    }
   ],
   "source": [
    "# Add the output layer for the roberta model\n",
    "roberta_model = RobertaSentimentClassifier(len(sentiment_classes))\n",
    "roberta_model = roberta_model.to(device)"
   ]
  },
  {
   "cell_type": "code",
   "execution_count": 63,
   "metadata": {
    "colab": {
     "base_uri": "https://localhost:8080/"
    },
    "id": "PBDLyHVZKcf6",
    "outputId": "f879422d-b002-4340-d09c-12762844e09e"
   },
   "outputs": [
    {
     "name": "stdout",
     "output_type": "stream",
     "text": [
      "torch.Size([16, 200])\n",
      "torch.Size([16, 200])\n"
     ]
    }
   ],
   "source": [
    "roberta_input_ids = roberta_data['input_ids'].to(device)\n",
    "roberta_attention_mask = roberta_data['attention_mask'].to(device)\n",
    "\n",
    "print(roberta_input_ids.shape)\n",
    "print(roberta_attention_mask.shape)"
   ]
  },
  {
   "cell_type": "code",
   "execution_count": 64,
   "metadata": {
    "colab": {
     "base_uri": "https://localhost:8080/"
    },
    "id": "_zM5F92qqEhW",
    "outputId": "4a3bfc7d-bc5d-40cc-b8b8-57b4a6b55af6"
   },
   "outputs": [
    {
     "data": {
      "text/plain": [
       "tensor([[0.3868, 0.3802, 0.2330],\n",
       "        [0.4263, 0.3225, 0.2512],\n",
       "        [0.4030, 0.3510, 0.2460],\n",
       "        [0.3455, 0.3663, 0.2882],\n",
       "        [0.3405, 0.3810, 0.2785],\n",
       "        [0.3745, 0.3461, 0.2795],\n",
       "        [0.3638, 0.3349, 0.3012],\n",
       "        [0.3338, 0.3702, 0.2960],\n",
       "        [0.3718, 0.3736, 0.2546],\n",
       "        [0.3860, 0.3723, 0.2417],\n",
       "        [0.3712, 0.3718, 0.2571],\n",
       "        [0.3489, 0.3727, 0.2784],\n",
       "        [0.3416, 0.4029, 0.2555],\n",
       "        [0.3683, 0.3697, 0.2619],\n",
       "        [0.3942, 0.3793, 0.2265],\n",
       "        [0.3674, 0.3697, 0.2629]], device='cuda:0', grad_fn=<SoftmaxBackward0>)"
      ]
     },
     "execution_count": 64,
     "metadata": {},
     "output_type": "execute_result"
    }
   ],
   "source": [
    "F.softmax(roberta_model(roberta_input_ids, roberta_attention_mask), dim=1)"
   ]
  },
  {
   "cell_type": "markdown",
   "metadata": {
    "id": "_GUO4SkbnMsr"
   },
   "source": [
    "# Training"
   ]
  },
  {
   "cell_type": "code",
   "execution_count": 65,
   "metadata": {
    "colab": {
     "base_uri": "https://localhost:8080/"
    },
    "id": "kkNDGJqeiQqy",
    "outputId": "59ba5ea4-8e94-4e0d-e41e-7cfea9a7cb28"
   },
   "outputs": [
    {
     "name": "stderr",
     "output_type": "stream",
     "text": [
      "/usr/local/lib/python3.10/dist-packages/transformers/optimization.py:411: FutureWarning: This implementation of AdamW is deprecated and will be removed in a future version. Use the PyTorch implementation torch.optim.AdamW instead, or set `no_deprecation_warning=True` to disable this warning\n",
      "  warnings.warn(\n"
     ]
    }
   ],
   "source": [
    "# Create an optimizer for the BERT model\n",
    "bert_optimizer = AdamW(bert_model.parameters(), lr=2e-5, correct_bias=False)\n",
    "bert_total_steps = len(bert_train_dl) * EPOCHS\n",
    "bert_scheduler = get_linear_schedule_with_warmup(\n",
    "    bert_optimizer,\n",
    "    num_warmup_steps=0,\n",
    "    num_training_steps=bert_total_steps\n",
    ")\n",
    "bert_loss_func = nn.CrossEntropyLoss().to(device)"
   ]
  },
  {
   "cell_type": "code",
   "execution_count": 66,
   "metadata": {
    "id": "f8Kg6HlOMqHS"
   },
   "outputs": [],
   "source": [
    "# Create an optimizer for the RoBERTa model\n",
    "roberta_optimizer = AdamW(roberta_model.parameters(), lr=2e-5, correct_bias=False)\n",
    "roberta_total_steps = len(roberta_train_dl) * EPOCHS\n",
    "roberta_scheduler = get_linear_schedule_with_warmup(\n",
    "    roberta_optimizer,\n",
    "    num_warmup_steps=0,\n",
    "    num_training_steps=roberta_total_steps\n",
    ")\n",
    "roberta_loss_func = nn.CrossEntropyLoss().to(device)"
   ]
  },
  {
   "cell_type": "code",
   "execution_count": 67,
   "metadata": {
    "id": "Umgq6972o0y2"
   },
   "outputs": [],
   "source": [
    "# Create a helper function to train the models\n",
    "def train_epoch(\n",
    "    model,\n",
    "    data_loader,\n",
    "    loss_func,\n",
    "    optimizer,\n",
    "    device,\n",
    "    scheduler,\n",
    "    n_examples\n",
    "):\n",
    "  model = model.train()\n",
    "  losses = []\n",
    "  correct_predictions = 0\n",
    "\n",
    "  for d in data_loader:\n",
    "    input_ids = d['input_ids'].to(device)\n",
    "    attention_mask = d['attention_mask'].to(device)\n",
    "    targets = d['targets'].to(device)\n",
    "\n",
    "    outputs = model(\n",
    "        input_ids = input_ids,\n",
    "        attention_mask = attention_mask\n",
    "    )\n",
    "\n",
    "    _, preds = torch.max(outputs, dim=1)\n",
    "    loss = loss_func(outputs, targets)\n",
    "    correct_predictions += torch.sum(preds == targets)\n",
    "    losses.append(loss.item())\n",
    "\n",
    "    loss.backward()\n",
    "    nn.utils.clip_grad_norm_(model.parameters(), max_norm=1.0)\n",
    "\n",
    "    optimizer.step()\n",
    "    scheduler.step()\n",
    "    optimizer.zero_grad()\n",
    "\n",
    "  return correct_predictions.double() / n_examples, np.mean(losses)"
   ]
  },
  {
   "cell_type": "code",
   "execution_count": 68,
   "metadata": {
    "id": "4X2HaAUSuUr3"
   },
   "outputs": [],
   "source": [
    "# Create a helper function for model evaluation\n",
    "def eval_model(model, data_loader, loss_func, device, n_examples):\n",
    "  model = model.eval()\n",
    "\n",
    "  losses = []\n",
    "  correct_predictions = 0\n",
    "\n",
    "  with torch.no_grad():\n",
    "    for d in data_loader:\n",
    "      input_ids = d['input_ids'].to(device)\n",
    "      attention_mask = d['attention_mask'].to(device)\n",
    "      targets = d['targets'].to(device)\n",
    "\n",
    "      outputs = model(\n",
    "          input_ids = input_ids,\n",
    "          attention_mask = attention_mask\n",
    "      )\n",
    "\n",
    "      _, preds = torch.max(outputs, dim=1)\n",
    "      loss = loss_func(outputs, targets)\n",
    "      correct_predictions += torch.sum(preds == targets)\n",
    "      losses.append(loss.item())\n",
    "\n",
    "  return correct_predictions.double() / n_examples, np.mean(losses)"
   ]
  },
  {
   "cell_type": "code",
   "execution_count": 69,
   "metadata": {
    "colab": {
     "base_uri": "https://localhost:8080/"
    },
    "id": "P1LYWoz1vtgT",
    "outputId": "6a69d688-972b-44d0-a615-05597d70f36e"
   },
   "outputs": [
    {
     "name": "stdout",
     "output_type": "stream",
     "text": [
      "Epoch 1/10\n",
      "----------\n"
     ]
    },
    {
     "name": "stderr",
     "output_type": "stream",
     "text": [
      "/usr/local/lib/python3.10/dist-packages/torch/utils/data/dataloader.py:557: UserWarning: This DataLoader will create 4 worker processes in total. Our suggested max number of worker in current system is 2, which is smaller than what this DataLoader is going to create. Please be aware that excessive worker creation might get DataLoader running slow or even freeze, lower the worker number to avoid potential slowness/freeze if necessary.\n",
      "  warnings.warn(_create_warning_msg(\n"
     ]
    },
    {
     "name": "stdout",
     "output_type": "stream",
     "text": [
      "Train loss: 0.7296035268909506, Train Accuracy: 0.6715122433138099\n",
      "Validation loss: 0.5906335982680321, Validtion Accuracy: 0.7522236340533672\n",
      "\n",
      "\n",
      "Epoch 2/10\n",
      "----------\n",
      "Train loss: 0.42601998327783486, Train Accuracy: 0.8400959706442735\n",
      "Validation loss: 0.5463307625427842, Validtion Accuracy: 0.832274459974587\n",
      "\n",
      "\n",
      "Epoch 3/10\n",
      "----------\n",
      "Train loss: 0.2441493305769217, Train Accuracy: 0.9211770517253546\n",
      "Validation loss: 0.6750774677097797, Validtion Accuracy: 0.8500635324015248\n",
      "\n",
      "\n",
      "Epoch 4/10\n",
      "----------\n",
      "Train loss: 0.16320461280508342, Train Accuracy: 0.9539905440688731\n",
      "Validation loss: 0.7314430114009883, Validtion Accuracy: 0.8653113087674714\n",
      "\n",
      "\n",
      "Epoch 5/10\n",
      "----------\n",
      "Train loss: 0.11751226230839039, Train Accuracy: 0.966198574553666\n",
      "Validation loss: 0.7832739899144507, Validtion Accuracy: 0.8716645489199493\n",
      "\n",
      "\n",
      "Epoch 6/10\n",
      "----------\n",
      "Train loss: 0.08945922979522779, Train Accuracy: 0.9745254392773975\n",
      "Validation loss: 0.8448202995763858, Validtion Accuracy: 0.8754764930114358\n",
      "\n",
      "\n",
      "Epoch 7/10\n",
      "----------\n",
      "Train loss: 0.06712538513975992, Train Accuracy: 0.980947004445699\n",
      "Validation loss: 0.855573914514971, Validtion Accuracy: 0.8742058449809403\n",
      "\n",
      "\n",
      "Epoch 8/10\n",
      "----------\n",
      "Train loss: 0.04917453555114311, Train Accuracy: 0.9850398701573637\n",
      "Validation loss: 0.9201544879455469, Validtion Accuracy: 0.8691232528589581\n",
      "\n",
      "\n",
      "Epoch 9/10\n",
      "----------\n",
      "Train loss: 0.047369260955320416, Train Accuracy: 0.9856044033589726\n",
      "Validation loss: 0.9452650795443333, Validtion Accuracy: 0.8742058449809403\n",
      "\n",
      "\n",
      "Epoch 10/10\n",
      "----------\n",
      "Train loss: 0.03554159450933486, Train Accuracy: 0.9875802695646038\n",
      "Validation loss: 0.9100470336718718, Validtion Accuracy: 0.878017789072427\n",
      "\n",
      "\n",
      "CPU times: user 18min 2s, sys: 6min 30s, total: 24min 32s\n",
      "Wall time: 25min 43s\n"
     ]
    }
   ],
   "source": [
    "# Train the BERT model and save the best model state\n",
    "%%time\n",
    "bert_history = defaultdict(list)\n",
    "bert_best_accuracy = 0\n",
    "\n",
    "for epoch in range(EPOCHS):\n",
    "  print(f'Epoch {epoch + 1}/{EPOCHS}')\n",
    "  print('-' * 10)\n",
    "\n",
    "  bert_train_acc, bert_train_loss = train_epoch(\n",
    "      bert_model,\n",
    "      bert_train_dl,\n",
    "      bert_loss_func,\n",
    "      bert_optimizer,\n",
    "      device,\n",
    "      bert_scheduler,\n",
    "      len(df_train)\n",
    "  )\n",
    "\n",
    "  print(f'Train loss: {bert_train_loss}, Train Accuracy: {bert_train_acc}')\n",
    "\n",
    "  bert_val_acc, bert_val_loss = eval_model(\n",
    "      bert_model,\n",
    "      bert_validation_dl,\n",
    "      bert_loss_func,\n",
    "      device,\n",
    "      len(df_val)\n",
    "  )\n",
    "\n",
    "  print(f'Validation loss: {bert_val_loss}, Validtion Accuracy: {bert_val_acc}')\n",
    "  print('\\n')\n",
    "\n",
    "  bert_history['train_acc'].append(bert_train_acc)\n",
    "  bert_history['train_loss'].append(bert_train_loss)\n",
    "  bert_history['val_acc'].append(bert_val_acc)\n",
    "  bert_history['val_loss'].append(bert_val_loss)\n",
    "\n",
    "  if bert_val_acc > bert_best_accuracy:\n",
    "    torch.save(bert_model.state_dict(), 'best_bert_model_state.bin')\n",
    "    bert_best_accuracy = bert_val_acc"
   ]
  },
  {
   "cell_type": "code",
   "execution_count": 70,
   "metadata": {
    "colab": {
     "base_uri": "https://localhost:8080/"
    },
    "id": "vg__CE0VQDRG",
    "outputId": "22cab135-856c-4364-982c-4639a014b234"
   },
   "outputs": [
    {
     "name": "stdout",
     "output_type": "stream",
     "text": [
      "Epoch 1/10\n",
      "----------\n",
      "Train loss: 0.7927758248342079, Train Accuracy: 0.6392632841719004\n",
      "Validation loss: 0.646436739563942, Validtion Accuracy: 0.7369758576874206\n",
      "\n",
      "\n",
      "Epoch 2/10\n",
      "----------\n",
      "Train loss: 0.5893091530482333, Train Accuracy: 0.7538635240985111\n",
      "Validation loss: 0.6429062584042549, Validtion Accuracy: 0.7687420584498095\n",
      "\n",
      "\n",
      "Epoch 3/10\n",
      "----------\n",
      "Train loss: 0.44724538448449586, Train Accuracy: 0.8358619716322067\n",
      "Validation loss: 0.6091054909676313, Validtion Accuracy: 0.806861499364676\n",
      "\n",
      "\n",
      "Epoch 4/10\n",
      "----------\n",
      "Train loss: 0.3547842521872161, Train Accuracy: 0.8830710606167526\n",
      "Validation loss: 0.6442283390462399, Validtion Accuracy: 0.832274459974587\n",
      "\n",
      "\n",
      "Epoch 5/10\n",
      "----------\n",
      "Train loss: 0.3020994986368566, Train Accuracy: 0.9087573212899585\n",
      "Validation loss: 0.6355070746131242, Validtion Accuracy: 0.8564167725540026\n",
      "\n",
      "\n",
      "Epoch 6/10\n",
      "----------\n",
      "Train loss: 0.26086322738763795, Train Accuracy: 0.9292216498482817\n",
      "Validation loss: 0.673140569459647, Validtion Accuracy: 0.8589580686149937\n",
      "\n",
      "\n",
      "Epoch 7/10\n",
      "----------\n",
      "Train loss: 0.23671946442280276, Train Accuracy: 0.9408651471314657\n",
      "Validation loss: 0.6728136018663645, Validtion Accuracy: 0.855146124523507\n",
      "\n",
      "\n",
      "Epoch 8/10\n",
      "----------\n",
      "Train loss: 0.20474763490700082, Train Accuracy: 0.9501799449580128\n",
      "Validation loss: 0.7324740718118846, Validtion Accuracy: 0.8576874205844981\n",
      "\n",
      "\n",
      "Epoch 9/10\n",
      "----------\n",
      "Train loss: 0.1894255158326927, Train Accuracy: 0.954484510620281\n",
      "Validation loss: 0.7275657617580146, Validtion Accuracy: 0.8653113087674714\n",
      "\n",
      "\n",
      "Epoch 10/10\n",
      "----------\n",
      "Train loss: 0.16864877946043605, Train Accuracy: 0.960059275986169\n",
      "Validation loss: 0.7360249159717932, Validtion Accuracy: 0.8653113087674714\n",
      "\n",
      "\n",
      "CPU times: user 18min 5s, sys: 6min 44s, total: 24min 49s\n",
      "Wall time: 26min 7s\n"
     ]
    }
   ],
   "source": [
    "# Train the RoBERTa model and save the best state\n",
    "%%time\n",
    "roberta_history = defaultdict(list)\n",
    "roberta_best_accuracy = 0\n",
    "\n",
    "for epoch in range(EPOCHS):\n",
    "  print(f'Epoch {epoch + 1}/{EPOCHS}')\n",
    "  print('-' * 10)\n",
    "\n",
    "  roberta_train_acc, roberta_train_loss = train_epoch(\n",
    "      roberta_model,\n",
    "      roberta_train_dl,\n",
    "      roberta_loss_func,\n",
    "      roberta_optimizer,\n",
    "      device,\n",
    "      roberta_scheduler,\n",
    "      len(df_train)\n",
    "  )\n",
    "\n",
    "  print(f'Train loss: {roberta_train_loss}, Train Accuracy: {roberta_train_acc}')\n",
    "\n",
    "  roberta_val_acc, roberta_val_loss = eval_model(\n",
    "      roberta_model,\n",
    "      roberta_validation_dl,\n",
    "      roberta_loss_func,\n",
    "      device,\n",
    "      len(df_val)\n",
    "  )\n",
    "\n",
    "  print(f'Validation loss: {roberta_val_loss}, Validtion Accuracy: {roberta_val_acc}')\n",
    "  print('\\n')\n",
    "\n",
    "  roberta_history['train_acc'].append(roberta_train_acc)\n",
    "  roberta_history['train_loss'].append(roberta_train_loss)\n",
    "  roberta_history['val_acc'].append(roberta_val_acc)\n",
    "  roberta_history['val_loss'].append(roberta_val_loss)\n",
    "\n",
    "  if roberta_val_acc > roberta_best_accuracy:\n",
    "    torch.save(roberta_model.state_dict(), 'best_roberta_model_state.bin')\n",
    "    best_accuracy = roberta_val_acc"
   ]
  },
  {
   "cell_type": "code",
   "execution_count": 71,
   "metadata": {
    "colab": {
     "base_uri": "https://localhost:8080/",
     "height": 495
    },
    "id": "PDVgtrAnxPaS",
    "outputId": "ff901a3f-8fe4-40ac-fd09-2898e913756a"
   },
   "outputs": [
    {
     "data": {
      "image/png": "[encoded data removed]",
      "text/plain": [
       "<Figure size 1000x500 with 2 Axes>"
      ]
     },
     "metadata": {
      "image/png": {
       "height": 478,
       "width": 977
      }
     },
     "output_type": "display_data"
    }
   ],
   "source": [
    "# Get BERT training history\n",
    "bert_train_acc_cpu = []\n",
    "bert_val_acc_cpu = []\n",
    "\n",
    "for epoch_acc in bert_history['train_acc']:\n",
    "  bert_train_acc_cpu.append(epoch_acc.cpu())\n",
    "\n",
    "for epoch_acc in bert_history['val_acc']:\n",
    "  bert_val_acc_cpu.append(epoch_acc.cpu())\n",
    "\n",
    "# Get RoBERTa training history\n",
    "roberta_train_acc_cpu = []\n",
    "roberta_val_acc_cpu = []\n",
    "\n",
    "for epoch_acc in roberta_history['train_acc']:\n",
    "  roberta_train_acc_cpu.append(epoch_acc.cpu())\n",
    "\n",
    "for epoch_acc in roberta_history['val_acc']:\n",
    "  roberta_val_acc_cpu.append(epoch_acc.cpu())\n",
    "\n",
    "# Plot BERT training history and RoBERTa's training history\n",
    "fig, (ax1, ax2) = plt.subplots(1, 2, figsize=(10, 5))\n",
    "\n",
    "ax1.plot(bert_train_acc_cpu, label='Training accuracy')\n",
    "ax1.plot(bert_val_acc_cpu, label='Validation accuracy')\n",
    "ax1.set_title('BERT')\n",
    "ax1.set_ylabel('Accuracy')\n",
    "ax1.set_xlabel('Epoch')\n",
    "ax1.set_ylim([0, 1])\n",
    "ax1.legend()\n",
    "\n",
    "ax2.plot(roberta_train_acc_cpu, label='Training accuracy')\n",
    "ax2.plot(roberta_val_acc_cpu, label='Validation accuracy')\n",
    "ax2.set_title('RoBERTa')\n",
    "ax2.set_ylabel('Accuracy')\n",
    "ax2.set_xlabel('Epoch')\n",
    "ax2.set_ylim([0, 1])\n",
    "ax2.legend()\n",
    "\n",
    "plt.tight_layout()\n",
    "plt.show()"
   ]
  },
  {
   "cell_type": "markdown",
   "metadata": {
    "id": "VCU9kbc9U7Qa"
   },
   "source": [
    "# Evaluation"
   ]
  },
  {
   "cell_type": "code",
   "execution_count": 72,
   "metadata": {
    "colab": {
     "base_uri": "https://localhost:8080/"
    },
    "id": "hbg1SnUNkob3",
    "outputId": "dc077722-4648-4520-9c6f-51441d054423"
   },
   "outputs": [
    {
     "name": "stdout",
     "output_type": "stream",
     "text": [
      "BERT Test Accuracy: 0.9010152284263959\n",
      "RoBERTa Test Accuracy: 0.8654822335025381\n"
     ]
    }
   ],
   "source": [
    "# Test the accuracy of the fine-tuned BERT model\n",
    "bert_test_acc, _ = eval_model(\n",
    "    bert_model,\n",
    "    bert_test_dl,\n",
    "    bert_loss_func,\n",
    "    device,\n",
    "    len(df_test)\n",
    ")\n",
    "\n",
    "# Test the accuracy of the fine_tuned RoBERTa model\n",
    "roberta_test_acc, _ = eval_model(\n",
    "    roberta_model,\n",
    "    roberta_test_dl,\n",
    "    bert_loss_func,\n",
    "    device,\n",
    "    len(df_test)\n",
    ")\n",
    "\n",
    "print(f'BERT Test Accuracy: {bert_test_acc.item()}')\n",
    "print(f'RoBERTa Test Accuracy: {roberta_test_acc.item()}')"
   ]
  },
  {
   "cell_type": "code",
   "execution_count": 73,
   "metadata": {
    "id": "X1qXop8yVPhO"
   },
   "outputs": [],
   "source": [
    "# Define a helper function to get predictions from model\n",
    "def get_predictions(model, data_loader):\n",
    "  model = model.eval()\n",
    "\n",
    "  review_texts = []\n",
    "  predictions = []\n",
    "  prediction_probs = []\n",
    "  real_values = []\n",
    "\n",
    "  with torch.no_grad():\n",
    "    for d in data_loader:\n",
    "      texts = d['review_text']\n",
    "      input_ids = d['input_ids'].to(device)\n",
    "      attention_mask = d['attention_mask'].to(device)\n",
    "      targets = d['targets'].to(device)\n",
    "\n",
    "      outputs = model(\n",
    "          input_ids=input_ids,\n",
    "          attention_mask=attention_mask\n",
    "      )\n",
    "\n",
    "      _, preds = torch.max(outputs, dim=1)\n",
    "\n",
    "      probs = F.softmax(outputs, dim=1)\n",
    "\n",
    "      review_texts.extend(texts)\n",
    "      predictions.extend(preds)\n",
    "      prediction_probs.extend(outputs)\n",
    "      real_values.extend(targets)\n",
    "\n",
    "  predictions = torch.stack(predictions).cpu()\n",
    "  prediction_probs = torch.stack(prediction_probs).cpu()\n",
    "  real_values = torch.stack(real_values).cpu()\n",
    "  return review_texts, predictions, prediction_probs, real_values"
   ]
  },
  {
   "cell_type": "code",
   "execution_count": 74,
   "metadata": {
    "id": "AdfhHyS1W3KD"
   },
   "outputs": [],
   "source": [
    "# Get BERT predictions\n",
    "bert_y_review_texts, bert_y_pred, bert_y_pred_probs, bert_y_test = get_predictions(\n",
    "    bert_model,\n",
    "    bert_test_dl\n",
    ")"
   ]
  },
  {
   "cell_type": "code",
   "execution_count": 75,
   "metadata": {
    "id": "fS-H5WvYC13x"
   },
   "outputs": [],
   "source": [
    "# Get RoBERTa predictions\n",
    "roberta_y_review_texts, roberta_y_pred, roberta_y_pred_probs, roberta_y_test = get_predictions(\n",
    "    roberta_model,\n",
    "    roberta_test_dl\n",
    ")"
   ]
  },
  {
   "cell_type": "code",
   "execution_count": 76,
   "metadata": {
    "colab": {
     "base_uri": "https://localhost:8080/"
    },
    "id": "-qDScoi6XBVW",
    "outputId": "7cec7c3b-3629-4c58-d17a-5a4999cec3d6"
   },
   "outputs": [
    {
     "name": "stdout",
     "output_type": "stream",
     "text": [
      "              precision    recall  f1-score   support\n",
      "\n",
      "    negative       0.93      0.86      0.89       245\n",
      "     neutral       0.85      0.90      0.87       254\n",
      "    positive       0.93      0.93      0.93       289\n",
      "\n",
      "    accuracy                           0.90       788\n",
      "   macro avg       0.90      0.90      0.90       788\n",
      "weighted avg       0.90      0.90      0.90       788\n",
      "\n"
     ]
    }
   ],
   "source": [
    "# Display BERT's classification report\n",
    "print(classification_report(bert_y_test, bert_y_pred, target_names=sentiment_classes))"
   ]
  },
  {
   "cell_type": "code",
   "execution_count": 77,
   "metadata": {
    "colab": {
     "base_uri": "https://localhost:8080/"
    },
    "id": "w1GrnnR0DamZ",
    "outputId": "3c984193-4027-4a4f-e486-6d0b033e91be"
   },
   "outputs": [
    {
     "name": "stdout",
     "output_type": "stream",
     "text": [
      "              precision    recall  f1-score   support\n",
      "\n",
      "    negative       0.91      0.82      0.87       245\n",
      "     neutral       0.80      0.84      0.82       254\n",
      "    positive       0.90      0.92      0.91       289\n",
      "\n",
      "    accuracy                           0.87       788\n",
      "   macro avg       0.87      0.86      0.86       788\n",
      "weighted avg       0.87      0.87      0.87       788\n",
      "\n"
     ]
    }
   ],
   "source": [
    "# Display RoBERTa's classification report\n",
    "print(classification_report(roberta_y_test, roberta_y_pred, target_names=sentiment_classes))"
   ]
  },
  {
   "cell_type": "code",
   "execution_count": 78,
   "metadata": {
    "id": "wyAEsZA9XFWn"
   },
   "outputs": [],
   "source": [
    "# Visualize the confusion matrix\n",
    "def show_confusion_matrix(confusion_matrix):\n",
    "  hmap = sns.heatmap(confusion_matrix, annot=True, fmt=\"d\", cmap=\"Reds\")\n",
    "  hmap.yaxis.set_ticklabels(hmap.yaxis.get_ticklabels(), rotation=0, ha='right')\n",
    "  hmap.yaxis.set_ticklabels(hmap.yaxis.get_ticklabels(), rotation=30, ha='right')\n",
    "  plt.ylabel('True sentiment')\n",
    "  plt.xlabel('Predicted sentiment');\n",
    "\n",
    "bert_cm = confusion_matrix(bert_y_test, bert_y_pred)\n",
    "roberta_cm = confusion_matrix(roberta_y_test, roberta_y_pred)"
   ]
  },
  {
   "cell_type": "code",
   "execution_count": 79,
   "metadata": {
    "colab": {
     "base_uri": "https://localhost:8080/",
     "height": 595
    },
    "id": "-nzzg47nMKPG",
    "outputId": "bdb9a129-7917-49c9-a406-d50a6e110624"
   },
   "outputs": [
    {
     "data": {
      "image/png": "[encoded data removed]",
      "text/plain": [
       "<Figure size 1200x600 with 4 Axes>"
      ]
     },
     "metadata": {
      "image/png": {
       "height": 578,
       "width": 1166
      }
     },
     "output_type": "display_data"
    }
   ],
   "source": [
    "fig, (ax1, ax2) = plt.subplots(1, 2, figsize=(12, 6))\n",
    "sns.heatmap(bert_cm, annot=True, fmt=\"d\", cmap=\"Reds\", ax=ax1)\n",
    "ax1.set_title(\"BERT Confusion Matrix\")\n",
    "ax1.set_xlabel(\"Predicted sentiment\")\n",
    "ax1.set_ylabel(\"True sentiment\")\n",
    "\n",
    "sns.heatmap(roberta_cm, annot=True, fmt=\"d\", cmap=\"Blues\", ax=ax2)\n",
    "ax2.set_title(\"RoBERTa Confusion Matrix\")\n",
    "ax2.set_xlabel(\"Predicted sentiment\")\n",
    "ax2.set_ylabel(\"True sentiment\")\n",
    "\n",
    "plt.tight_layout()\n",
    "plt.show()"
   ]
  },
  {
   "cell_type": "code",
   "execution_count": 80,
   "metadata": {
    "colab": {
     "base_uri": "https://localhost:8080/"
    },
    "id": "jXXARLKfmffN",
    "outputId": "6397b072-f2f7-4d46-c10f-9a2cc6c63055"
   },
   "outputs": [
    {
     "name": "stdout",
     "output_type": "stream",
     "text": [
      "Review: I love this course\n",
      "Sentiment : positive\n",
      "Review: This course is not bad and not good either, it is just ok\n",
      "Sentiment : neutral\n",
      "Review: I hate this course\n",
      "Sentiment : negative\n"
     ]
    }
   ],
   "source": [
    "positive_course_review = 'I love this course'\n",
    "neutral_course_review = 'This course is not bad and not good either, it is just ok'\n",
    "negative_course_review = 'I hate this course'\n",
    "\n",
    "course_reviews = [positive_course_review, neutral_course_review, negative_course_review]\n",
    "\n",
    "for review in course_reviews:\n",
    "  encoded_reviews = []\n",
    "  encoded_course_review = bert_tokenizer.encode_plus(\n",
    "      review,\n",
    "      max_length=MAX_LEN,\n",
    "      add_special_tokens=True,\n",
    "      return_token_type_ids=False,\n",
    "      padding='max_length',\n",
    "      return_attention_mask=True,\n",
    "      return_tensors='pt'\n",
    "  )\n",
    "\n",
    "  encoded_reviews.append(encoded_course_review)\n",
    "  input_ids = encoded_reviews[0]['input_ids'].to(device)\n",
    "  attention_mask = encoded_reviews[0]['attention_mask'].to(device)\n",
    "  output = bert_model(\n",
    "      input_ids=input_ids,\n",
    "      attention_mask=attention_mask\n",
    "  )\n",
    "\n",
    "  _, prediction = torch.max(output, dim=1)\n",
    "  print(f'Review: {review}\\nSentiment : {sentiment_classes[prediction]}')\n"
   ]
  },
  {
   "cell_type": "code",
   "execution_count": 81,
   "metadata": {
    "colab": {
     "base_uri": "https://localhost:8080/"
    },
    "id": "pggEXqEQKG-J",
    "outputId": "44504939-ad4f-4819-d050-321da73f3326"
   },
   "outputs": [
    {
     "name": "stdout",
     "output_type": "stream",
     "text": [
      "Review: I love this course\n",
      "Sentiment : positive\n",
      "Review: This course is not bad and not good either, it is just ok\n",
      "Sentiment : neutral\n",
      "Review: I hate this course\n",
      "Sentiment : negative\n"
     ]
    }
   ],
   "source": [
    "for review in course_reviews:\n",
    "  encoded_reviews = []\n",
    "  encoded_course_review = roberta_tokenizer.encode_plus(\n",
    "      review,\n",
    "      max_length=MAX_LEN,\n",
    "      add_special_tokens=True,\n",
    "      return_token_type_ids=False,\n",
    "      padding='max_length',\n",
    "      return_attention_mask=True,\n",
    "      return_tensors='pt'\n",
    "  )\n",
    "\n",
    "  encoded_reviews.append(encoded_course_review)\n",
    "  input_ids = encoded_reviews[0]['input_ids'].to(device)\n",
    "  attention_mask = encoded_reviews[0]['attention_mask'].to(device)\n",
    "  output = roberta_model(\n",
    "      input_ids=input_ids,\n",
    "      attention_mask=attention_mask\n",
    "  )\n",
    "\n",
    "  _, prediction = torch.max(output, dim=1)\n",
    "  print(f'Review: {review}\\nSentiment : {sentiment_classes[prediction]}')"
   ]
  }
 ],
 "metadata": {
  "accelerator": "GPU",
  "colab": {
   "gpuType": "V100",
   "provenance": []
  },
  "kernelspec": {
   "display_name": "Python 3 (ipykernel)",
   "language": "python",
   "name": "python3"
  },
  "language_info": {
   "codemirror_mode": {
    "name": "ipython",
    "version": 3
   },
   "file_extension": ".py",
   "mimetype": "text/x-python",
   "name": "python",
   "nbconvert_exporter": "python",
   "pygments_lexer": "ipython3",
   "version": "3.11.10"
  }
 },
 "nbformat": 4,
 "nbformat_minor": 4
}
